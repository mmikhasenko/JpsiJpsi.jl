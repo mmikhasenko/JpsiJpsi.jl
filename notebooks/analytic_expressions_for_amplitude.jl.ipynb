{
 "cells": [
  {
   "cell_type": "code",
   "execution_count": 1,
   "metadata": {},
   "outputs": [],
   "source": [
    "using SymPy\n",
    "using LinearAlgebra\n",
    "# \n",
    "using Plots\n",
    "using Parameters\n",
    "using ThreeBodyDecay"
   ]
  },
  {
   "cell_type": "code",
   "execution_count": 2,
   "metadata": {},
   "outputs": [],
   "source": [
    "import PyCall\n",
    "PyCall.pyimport_conda(\"sympy.physics.quantum.spin\", \"sympy\")\n",
    "import_from(sympy.physics.quantum.spin, (:WignerD, :wignerd), typ=:Any)\n",
    "PyCall.pyimport_conda(\"sympy.physics.wigner\",       \"sympy\")\n",
    "import_from(sympy.physics.wigner)"
   ]
  },
  {
   "cell_type": "code",
   "execution_count": 3,
   "metadata": {},
   "outputs": [
    {
     "data": {
      "text/plain": [
       "clgn (generic function with 1 method)"
      ]
     },
     "execution_count": 3,
     "metadata": {},
     "output_type": "execute_result"
    }
   ],
   "source": [
    "Wignerd(J,λ1,λ2,θ) = \n",
    "    WignerD(J,λ1,λ2,0,θ,0).doit()\n",
    "clgn(two_j1,two_m1,two_j2,two_m2,two_j,two_m) = \n",
    "    clebsch_gordan(Sym(two_j1)/2, Sym(two_j2)/2, Sym(two_j)/2, Sym(two_m1)/2, Sym(two_m2)/2, Sym(two_m)/2)"
   ]
  },
  {
   "cell_type": "code",
   "execution_count": 4,
   "metadata": {},
   "outputs": [
    {
     "data": {
      "text/plain": [
       "Hλλ (generic function with 1 method)"
      ]
     },
     "execution_count": 4,
     "metadata": {},
     "output_type": "execute_result"
    }
   ],
   "source": [
    "function Hλλ(λ1,λ2; LS, J, j1=1, j2=1)\n",
    "    L, S = LS\n",
    "    Δλ = λ1-λ2\n",
    "    (isodd(j2-λ2) ? -1 : 1) *\n",
    "        clgn(2*j1,2*λ1,2*j2,-2*λ2,2*S,2*Δλ) *\n",
    "        clgn(2*L,0,2*S,2*Δλ,2*J,2*Δλ)*\n",
    "        sqrt(Sym(2L+1)/(2J+1))\n",
    "end"
   ]
  },
  {
   "cell_type": "markdown",
   "metadata": {},
   "source": [
    "## J = 0"
   ]
  },
  {
   "cell_type": "code",
   "execution_count": 5,
   "metadata": {},
   "outputs": [
    {
     "data": {
      "text/plain": [
       "2-element Array{Tuple{Int64,Int64},1}:\n",
       " (0, 0)\n",
       " (2, 2)"
      ]
     },
     "execution_count": 5,
     "metadata": {},
     "output_type": "execute_result"
    }
   ],
   "source": [
    "LS_for_J0 = [(0,0), (2,2)]"
   ]
  },
  {
   "cell_type": "code",
   "execution_count": 6,
   "metadata": {},
   "outputs": [
    {
     "data": {
      "text/latex": [
       "\\[\\left[ \\begin{array}{rrr}1&0&0\\\\0&1&0\\\\0&0&1\\end{array}\\right]\\]"
      ],
      "text/plain": [
       "3×3 Array{Sym,2}:\n",
       " 1  0  0\n",
       " 0  1  0\n",
       " 0  0  1"
      ]
     },
     "execution_count": 6,
     "metadata": {},
     "output_type": "execute_result"
    }
   ],
   "source": [
    "v = [Hλλ(λ1,λ2; LS=LS_for_J0[1], J=0) for λ1 in -1:1, λ2 in -1:1]; v ./ v[1,1]"
   ]
  },
  {
   "cell_type": "code",
   "execution_count": 7,
   "metadata": {},
   "outputs": [
    {
     "data": {
      "text/latex": [
       "\\[\\left[ \\begin{array}{rrr}1&0&0\\\\0&-2&0\\\\0&0&1\\end{array}\\right]\\]"
      ],
      "text/plain": [
       "3×3 Array{Sym,2}:\n",
       " 1   0  0\n",
       " 0  -2  0\n",
       " 0   0  1"
      ]
     },
     "execution_count": 7,
     "metadata": {},
     "output_type": "execute_result"
    }
   ],
   "source": [
    "v = [Hλλ(λ1,λ2; LS=LS_for_J0[2], J=0) for λ1 in -1:1, λ2 in -1:1]; v ./ v[1,1]"
   ]
  },
  {
   "cell_type": "markdown",
   "metadata": {},
   "source": [
    "## J = 1"
   ]
  },
  {
   "cell_type": "code",
   "execution_count": 8,
   "metadata": {},
   "outputs": [
    {
     "data": {
      "text/plain": [
       "3-element Array{Tuple{Int64,Int64},1}:\n",
       " (0, 1)\n",
       " (2, 1)\n",
       " (2, 2)"
      ]
     },
     "execution_count": 8,
     "metadata": {},
     "output_type": "execute_result"
    }
   ],
   "source": [
    "LS_for_J1 = [(0,1),(2,1),(2,2)]"
   ]
  },
  {
   "cell_type": "code",
   "execution_count": 9,
   "metadata": {},
   "outputs": [
    {
     "data": {
      "text/latex": [
       "\\[\\left[ \\begin{array}{rrr}-1&1&0\\\\-1&0&1\\\\0&-1&1\\end{array}\\right]\\]"
      ],
      "text/plain": [
       "3×3 Array{Sym,2}:\n",
       " -1   1  0\n",
       " -1   0  1\n",
       "  0  -1  1"
      ]
     },
     "execution_count": 9,
     "metadata": {},
     "output_type": "execute_result"
    }
   ],
   "source": [
    "v = [Hλλ(λ1,λ2; LS=LS_for_J1[1], J=1) for λ1 in -1:1, λ2 in -1:1]; v ./ abs(v[1,1])"
   ]
  },
  {
   "cell_type": "code",
   "execution_count": 10,
   "metadata": {},
   "outputs": [
    {
     "data": {
      "text/latex": [
       "\\[\\left[ \\begin{array}{rrr}2&1&0\\\\-1&0&1\\\\0&-1&-2\\end{array}\\right]\\]"
      ],
      "text/plain": [
       "3×3 Array{Sym,2}:\n",
       "  2   1   0\n",
       " -1   0   1\n",
       "  0  -1  -2"
      ]
     },
     "execution_count": 10,
     "metadata": {},
     "output_type": "execute_result"
    }
   ],
   "source": [
    "v = [Hλλ(λ1,λ2; LS=LS_for_J1[2], J=1) for λ1 in -1:1, λ2 in -1:1]; v ./ abs(v[1,2])"
   ]
  },
  {
   "cell_type": "code",
   "execution_count": 11,
   "metadata": {},
   "outputs": [
    {
     "data": {
      "text/latex": [
       "\\[\\left[ \\begin{array}{rrr}0&1&0\\\\1&0&-1\\\\0&-1&0\\end{array}\\right]\\]"
      ],
      "text/plain": [
       "3×3 Array{Sym,2}:\n",
       " 0   1   0\n",
       " 1   0  -1\n",
       " 0  -1   0"
      ]
     },
     "execution_count": 11,
     "metadata": {},
     "output_type": "execute_result"
    }
   ],
   "source": [
    "v = [Hλλ(λ1,λ2; LS=LS_for_J1[3], J=1) for λ1 in -1:1, λ2 in -1:1]; v ./ abs(v[1,2])"
   ]
  },
  {
   "cell_type": "markdown",
   "metadata": {},
   "source": [
    "## J=2"
   ]
  },
  {
   "cell_type": "code",
   "execution_count": 12,
   "metadata": {},
   "outputs": [
    {
     "data": {
      "text/plain": [
       "5-element Array{Tuple{Int64,Int64},1}:\n",
       " (0, 2)\n",
       " (2, 0)\n",
       " (2, 1)\n",
       " (2, 2)\n",
       " (4, 2)"
      ]
     },
     "execution_count": 12,
     "metadata": {},
     "output_type": "execute_result"
    }
   ],
   "source": [
    "LS_for_J2 = [(0,2), (2,0), (2,1), (2,2), (4,2)]"
   ]
  },
  {
   "cell_type": "code",
   "execution_count": 13,
   "metadata": {},
   "outputs": [
    {
     "data": {
      "text/latex": [
       "\\[\\left[ \\begin{array}{rrr}1&- \\sqrt{3}&\\sqrt{6}\\\\\\sqrt{3}&-2&\\sqrt{3}\\\\\\sqrt{6}&- \\sqrt{3}&1\\end{array}\\right]\\]"
      ],
      "text/plain": [
       "3×3 Array{Sym,2}:\n",
       "       1  -sqrt(3)  sqrt(6)\n",
       " sqrt(3)        -2  sqrt(3)\n",
       " sqrt(6)  -sqrt(3)        1"
      ]
     },
     "execution_count": 13,
     "metadata": {},
     "output_type": "execute_result"
    }
   ],
   "source": [
    "v = [Hλλ(λ1,λ2; LS=(0,2), J=2) for λ1 in -1:1, λ2 in -1:1]; v ./ abs(v[1,1])"
   ]
  },
  {
   "cell_type": "code",
   "execution_count": 14,
   "metadata": {},
   "outputs": [
    {
     "data": {
      "text/latex": [
       "\\[\\left[ \\begin{array}{rrr}1&0&0\\\\0&1&0\\\\0&0&1\\end{array}\\right]\\]"
      ],
      "text/plain": [
       "3×3 Array{Sym,2}:\n",
       " 1  0  0\n",
       " 0  1  0\n",
       " 0  0  1"
      ]
     },
     "execution_count": 14,
     "metadata": {},
     "output_type": "execute_result"
    }
   ],
   "source": [
    "v = [Hλλ(λ1,λ2; LS=(2,0), J=2) for λ1 in -1:1, λ2 in -1:1]; v ./ abs(v[1,1])"
   ]
  },
  {
   "cell_type": "code",
   "execution_count": 15,
   "metadata": {},
   "outputs": [
    {
     "data": {
      "text/latex": [
       "\\[\\left[ \\begin{array}{rrr}0&1&0\\\\1&0&1\\\\0&1&0\\end{array}\\right]\\]"
      ],
      "text/plain": [
       "3×3 Array{Sym,2}:\n",
       " 0  1  0\n",
       " 1  0  1\n",
       " 0  1  0"
      ]
     },
     "execution_count": 15,
     "metadata": {},
     "output_type": "execute_result"
    }
   ],
   "source": [
    "v = [Hλλ(λ1,λ2; LS=(2,1), J=2) for λ1 in -1:1, λ2 in -1:1]; v ./ abs(v[1,2])"
   ]
  },
  {
   "cell_type": "code",
   "execution_count": 16,
   "metadata": {},
   "outputs": [
    {
     "data": {
      "text/latex": [
       "\\[\\left[ \\begin{array}{rrr}-1&\\frac{\\sqrt{3}}{2}&\\sqrt{6}\\\\- \\frac{\\sqrt{3}}{2}&2&- \\frac{\\sqrt{3}}{2}\\\\\\sqrt{6}&\\frac{\\sqrt{3}}{2}&-1\\end{array}\\right]\\]"
      ],
      "text/plain": [
       "3×3 Array{Sym,2}:\n",
       "         -1  sqrt(3)/2     sqrt(6)\n",
       " -sqrt(3)/2          2  -sqrt(3)/2\n",
       "    sqrt(6)  sqrt(3)/2          -1"
      ]
     },
     "execution_count": 16,
     "metadata": {},
     "output_type": "execute_result"
    }
   ],
   "source": [
    "v = [Hλλ(λ1,λ2; LS=(2,2), J=2) for λ1 in -1:1, λ2 in -1:1]; v ./ abs(v[1,1])"
   ]
  },
  {
   "cell_type": "code",
   "execution_count": 17,
   "metadata": {},
   "outputs": [
    {
     "data": {
      "text/latex": [
       "\\[\\left[ \\begin{array}{rrr}1&\\frac{2 \\sqrt{3}}{3}&\\frac{\\sqrt{6}}{6}\\\\- \\frac{2 \\sqrt{3}}{3}&-2&- \\frac{2 \\sqrt{3}}{3}\\\\\\frac{\\sqrt{6}}{6}&\\frac{2 \\sqrt{3}}{3}&1\\end{array}\\right]\\]"
      ],
      "text/plain": [
       "3×3 Array{Sym,2}:\n",
       "            1  2*sqrt(3)/3     sqrt(6)/6\n",
       " -2*sqrt(3)/3           -2  -2*sqrt(3)/3\n",
       "    sqrt(6)/6  2*sqrt(3)/3             1"
      ]
     },
     "execution_count": 17,
     "metadata": {},
     "output_type": "execute_result"
    }
   ],
   "source": [
    "v = [Hλλ(λ1,λ2; LS=(4,2), J=2) for λ1 in -1:1, λ2 in -1:1]; v ./ abs(v[1,1])"
   ]
  },
  {
   "cell_type": "markdown",
   "metadata": {},
   "source": [
    "## Print the matrices"
   ]
  },
  {
   "cell_type": "code",
   "execution_count": 79,
   "metadata": {},
   "outputs": [
    {
     "name": "stdout",
     "output_type": "stream",
     "text": [
      "\n",
      "J = 0\n",
      "  l = 0, s = 0\n",
      "  sqrt(3)/3   \\left[\\begin{matrix}1 & 0 & 0\\\\0 & 1 & 0\\\\0 & 0 & 1\\end{matrix}\\right]\n",
      "  l = 2, s = 2\n",
      "  sqrt(6)/6   \\left[\\begin{matrix}1 & 0 & 0\\\\0 & -2 & 0\\\\0 & 0 & 1\\end{matrix}\\right]\n",
      "\n",
      "J = 1\n",
      "  l = 0, s = 1\n",
      "  sqrt(6)/6   \\left[\\begin{matrix}-1 & 1 & 0\\\\-1 & 0 & 1\\\\0 & -1 & 1\\end{matrix}\\right]\n",
      "  l = 2, s = 1\n",
      "  sqrt(3)/6   \\left[\\begin{matrix}2 & 1 & 0\\\\-1 & 0 & 1\\\\0 & -1 & -2\\end{matrix}\\right]\n",
      "  l = 2, s = 2\n",
      "  1/2   \\left[\\begin{matrix}0 & 1 & 0\\\\1 & 0 & -1\\\\0 & -1 & 0\\end{matrix}\\right]\n",
      "\n",
      "J = 2\n",
      "  l = 0, s = 2\n",
      "  sqrt(30)/30   \\left[\\begin{matrix}1 & - \\sqrt{3} & \\sqrt{6}\\\\\\sqrt{3} & -2 & \\sqrt{3}\\\\\\sqrt{6} & - \\sqrt{3} & 1\\end{matrix}\\right]\n",
      "  l = 2, s = 0\n",
      "  sqrt(3)/3   \\left[\\begin{matrix}1 & 0 & 0\\\\0 & 1 & 0\\\\0 & 0 & 1\\end{matrix}\\right]\n",
      "  l = 2, s = 1\n",
      "  1/2   \\left[\\begin{matrix}0 & 1 & 0\\\\1 & 0 & 1\\\\0 & 1 & 0\\end{matrix}\\right]\n",
      "  l = 2, s = 2\n",
      "  sqrt(7)/14   \\left[\\begin{matrix}- \\frac{2 \\sqrt{3}}{3} & 1 & 2 \\sqrt{2}\\\\-1 & \\frac{4 \\sqrt{3}}{3} & -1\\\\2 \\sqrt{2} & 1 & - \\frac{2 \\sqrt{3}}{3}\\end{matrix}\\right]\n",
      "  l = 4, s = 2\n",
      "  sqrt(70)/70   \\left[\\begin{matrix}\\sqrt{6} & 2 \\sqrt{2} & 1\\\\- 2 \\sqrt{2} & - 2 \\sqrt{6} & - 2 \\sqrt{2}\\\\1 & 2 \\sqrt{2} & \\sqrt{6}\\end{matrix}\\right]\n"
     ]
    }
   ],
   "source": [
    "for (J, LSs) in (0=>LS_for_J0, 1=>LS_for_J1, 2=>LS_for_J2)\n",
    "    println(\"\\nJ = $J\")\n",
    "    for (L,S) in LSs\n",
    "        v = [Hλλ(λ1,λ2; LS=(L,S), J=J) for λ1 in -1:1, λ2 in -1:1];\n",
    "        n = min(filter(x->x!=0, abs.(v))...)\n",
    "        println(\"  l = $(L), s = $(S)\")\n",
    "        print(\"  \",n,\"   \")\n",
    "        sympy.print_latex(v ./ n)\n",
    "    end\n",
    "end"
   ]
  },
  {
   "cell_type": "markdown",
   "metadata": {},
   "source": [
    "# Part 2: angular distributions"
   ]
  },
  {
   "cell_type": "code",
   "execution_count": 40,
   "metadata": {},
   "outputs": [
    {
     "data": {
      "text/plain": [
       "A4μ (generic function with 1 method)"
      ]
     },
     "execution_count": 40,
     "metadata": {},
     "output_type": "execute_result"
    }
   ],
   "source": [
    "function A4μ(vars; LS, J)\n",
    "    @unpack θ1,ϕ1,θ2,ϕ2 = vars\n",
    "    return simplify(sum(\n",
    "        (λ1-λ2 == λ1′-λ2′ ? 1 : 0) *\n",
    "            Wignerd(1,λ1 ,ξ1,θ1) * Wignerd(1,λ2 ,ξ2,θ2) *\n",
    "            Wignerd(1,λ1′,ξ1,θ1) * Wignerd(1,λ2′,ξ2,θ2) *\n",
    "            (cos((λ1-λ1′)*ϕ1)+1im*sin((λ1-λ1′)*ϕ1)) *\n",
    "            (cos((λ2-λ2′)*ϕ2)+1im*sin((λ2-λ2′)*ϕ2)) * \n",
    "                 Hλλ(λ1, λ2;  LS=LS, J=J) *\n",
    "            conj(Hλλ(λ1′,λ2′; LS=LS, J=J))\n",
    "            for ξ1 in -1:2:1, ξ2 in -1:2:1,\n",
    "                λ1  in -1:1, λ2  in -1:1,\n",
    "                λ1′ in -1:1, λ2′ in -1:1))\n",
    "end"
   ]
  },
  {
   "cell_type": "code",
   "execution_count": 52,
   "metadata": {},
   "outputs": [
    {
     "data": {
      "text/plain": [
       "A4μ_intϕ (generic function with 1 method)"
      ]
     },
     "execution_count": 52,
     "metadata": {},
     "output_type": "execute_result"
    }
   ],
   "source": [
    "function A4μ_intϕ(vars; LS, J)\n",
    "    @unpack θ1,θ2 = vars\n",
    "    return simplify(sum(\n",
    "            Wignerd(1,λ1 ,ξ1,θ1) * Wignerd(1,λ2 ,ξ2,θ2) *\n",
    "            Wignerd(1,λ1,ξ1,θ1) * Wignerd(1,λ2,ξ2,θ2) * \n",
    "                 Hλλ(λ1,λ2; LS=LS, J=J) *\n",
    "            conj(Hλλ(λ1,λ2; LS=LS, J=J))\n",
    "            for ξ1 in -1:2:1, ξ2 in -1:2:1,\n",
    "                λ1  in -1:1, λ2  in -1:1))\n",
    "end"
   ]
  },
  {
   "cell_type": "code",
   "execution_count": 36,
   "metadata": {},
   "outputs": [
    {
     "data": {
      "text/plain": [
       "(θ_1, ϕ_1, θ_2, ϕ_2)"
      ]
     },
     "execution_count": 36,
     "metadata": {},
     "output_type": "execute_result"
    }
   ],
   "source": [
    "θ1,ϕ1, θ2, ϕ2 = @vars θ_1 ϕ_1 θ_2 ϕ_2 positive=true"
   ]
  },
  {
   "cell_type": "code",
   "execution_count": 41,
   "metadata": {},
   "outputs": [
    {
     "data": {
      "text/latex": [
       "\\begin{equation*}\\frac{\\cos{\\left (2 θ_{1} \\right )}}{24} + \\frac{\\cos{\\left (2 θ_{2} \\right )}}{24} + \\frac{\\cos{\\left (2 θ_{1} - 2 θ_{2} \\right )}}{16} + \\frac{\\cos{\\left (2 θ_{1} + 2 θ_{2} \\right )}}{16} + \\frac{\\cos{\\left (2 ϕ_{1} + 2 ϕ_{2} \\right )}}{24} - \\frac{\\cos{\\left (- 2 θ_{1} + 2 ϕ_{1} + 2 ϕ_{2} \\right )}}{48} - \\frac{\\cos{\\left (2 θ_{1} + 2 ϕ_{1} + 2 ϕ_{2} \\right )}}{48} - \\frac{\\cos{\\left (- 2 θ_{2} + 2 ϕ_{1} + 2 ϕ_{2} \\right )}}{48} - \\frac{\\cos{\\left (2 θ_{2} + 2 ϕ_{1} + 2 ϕ_{2} \\right )}}{48} + \\frac{\\cos{\\left (- 2 θ_{1} + 2 θ_{2} + ϕ_{1} + ϕ_{2} \\right )}}{24} + \\frac{\\cos{\\left (- 2 θ_{1} + 2 θ_{2} + 2 ϕ_{1} + 2 ϕ_{2} \\right )}}{96} + \\frac{\\cos{\\left (2 θ_{1} - 2 θ_{2} + ϕ_{1} + ϕ_{2} \\right )}}{24} + \\frac{\\cos{\\left (2 θ_{1} - 2 θ_{2} + 2 ϕ_{1} + 2 ϕ_{2} \\right )}}{96} + \\frac{\\cos{\\left (2 θ_{1} + 2 θ_{2} - 2 ϕ_{1} - 2 ϕ_{2} \\right )}}{96} - \\frac{\\cos{\\left (2 θ_{1} + 2 θ_{2} - ϕ_{1} - ϕ_{2} \\right )}}{24} - \\frac{\\cos{\\left (2 θ_{1} + 2 θ_{2} + ϕ_{1} + ϕ_{2} \\right )}}{24} + \\frac{\\cos{\\left (2 θ_{1} + 2 θ_{2} + 2 ϕ_{1} + 2 ϕ_{2} \\right )}}{96} + \\frac{11}{24}\\end{equation*}"
      ],
      "text/plain": [
       "cos(2*θ_1)   cos(2*θ_2)   cos(2*θ_1 - 2*θ_2)   cos(2*θ_1 + 2*θ_2)   cos(2*ϕ_1 \n",
       "---------- + ---------- + ------------------ + ------------------ + ----------\n",
       "    24           24               16                   16                   24\n",
       "\n",
       "+ 2*ϕ_2)   cos(-2*θ_1 + 2*ϕ_1 + 2*ϕ_2)   cos(2*θ_1 + 2*ϕ_1 + 2*ϕ_2)   cos(-2*θ\n",
       "-------- - --------------------------- - -------------------------- - --------\n",
       "                        48                           48                       \n",
       "\n",
       "_2 + 2*ϕ_1 + 2*ϕ_2)   cos(2*θ_2 + 2*ϕ_1 + 2*ϕ_2)   cos(-2*θ_1 + 2*θ_2 + ϕ_1 + \n",
       "------------------- - -------------------------- + ---------------------------\n",
       "     48                           48                              24          \n",
       "\n",
       "ϕ_2)   cos(-2*θ_1 + 2*θ_2 + 2*ϕ_1 + 2*ϕ_2)   cos(2*θ_1 - 2*θ_2 + ϕ_1 + ϕ_2)   \n",
       "---- + ----------------------------------- + ------------------------------ + \n",
       "                        96                                 24                 \n",
       "\n",
       "cos(2*θ_1 - 2*θ_2 + 2*ϕ_1 + 2*ϕ_2)   cos(2*θ_1 + 2*θ_2 - 2*ϕ_1 - 2*ϕ_2)   cos(\n",
       "---------------------------------- + ---------------------------------- - ----\n",
       "                96                                   96                       \n",
       "\n",
       "2*θ_1 + 2*θ_2 - ϕ_1 - ϕ_2)   cos(2*θ_1 + 2*θ_2 + ϕ_1 + ϕ_2)   cos(2*θ_1 + 2*θ_\n",
       "-------------------------- - ------------------------------ + ----------------\n",
       "          24                               24                                 \n",
       "\n",
       "2 + 2*ϕ_1 + 2*ϕ_2)   11\n",
       "------------------ + --\n",
       "96                   24"
      ]
     },
     "execution_count": 41,
     "metadata": {},
     "output_type": "execute_result"
    }
   ],
   "source": [
    "A4μ((θ1=θ1,ϕ1=ϕ1,θ2=θ2,ϕ2=ϕ2); LS=LS_for_J0[1], J=0)"
   ]
  },
  {
   "cell_type": "code",
   "execution_count": 42,
   "metadata": {},
   "outputs": [
    {
     "data": {
      "text/latex": [
       "\\begin{equation*}- \\frac{5 \\cos{\\left (2 θ_{1} \\right )}}{48} - \\frac{5 \\cos{\\left (2 θ_{2} \\right )}}{48} + \\frac{3 \\cos{\\left (2 θ_{1} - 2 θ_{2} \\right )}}{32} + \\frac{3 \\cos{\\left (2 θ_{1} + 2 θ_{2} \\right )}}{32} + \\frac{\\cos{\\left (2 ϕ_{1} + 2 ϕ_{2} \\right )}}{48} - \\frac{\\cos{\\left (- 2 θ_{1} + 2 ϕ_{1} + 2 ϕ_{2} \\right )}}{96} - \\frac{\\cos{\\left (2 θ_{1} + 2 ϕ_{1} + 2 ϕ_{2} \\right )}}{96} - \\frac{\\cos{\\left (- 2 θ_{2} + 2 ϕ_{1} + 2 ϕ_{2} \\right )}}{96} - \\frac{\\cos{\\left (2 θ_{2} + 2 ϕ_{1} + 2 ϕ_{2} \\right )}}{96} - \\frac{\\cos{\\left (- 2 θ_{1} + 2 θ_{2} + ϕ_{1} + ϕ_{2} \\right )}}{24} + \\frac{\\cos{\\left (- 2 θ_{1} + 2 θ_{2} + 2 ϕ_{1} + 2 ϕ_{2} \\right )}}{192} - \\frac{\\cos{\\left (2 θ_{1} - 2 θ_{2} + ϕ_{1} + ϕ_{2} \\right )}}{24} + \\frac{\\cos{\\left (2 θ_{1} - 2 θ_{2} + 2 ϕ_{1} + 2 ϕ_{2} \\right )}}{192} + \\frac{\\cos{\\left (2 θ_{1} + 2 θ_{2} - 2 ϕ_{1} - 2 ϕ_{2} \\right )}}{192} + \\frac{\\cos{\\left (2 θ_{1} + 2 θ_{2} - ϕ_{1} - ϕ_{2} \\right )}}{24} + \\frac{\\cos{\\left (2 θ_{1} + 2 θ_{2} + ϕ_{1} + ϕ_{2} \\right )}}{24} + \\frac{\\cos{\\left (2 θ_{1} + 2 θ_{2} + 2 ϕ_{1} + 2 ϕ_{2} \\right )}}{192} + \\frac{17}{48}\\end{equation*}"
      ],
      "text/plain": [
       "  5*cos(2*θ_1)   5*cos(2*θ_2)   3*cos(2*θ_1 - 2*θ_2)   3*cos(2*θ_1 + 2*θ_2)   \n",
       "- ------------ - ------------ + -------------------- + -------------------- + \n",
       "       48             48                 32                     32            \n",
       "\n",
       "cos(2*ϕ_1 + 2*ϕ_2)   cos(-2*θ_1 + 2*ϕ_1 + 2*ϕ_2)   cos(2*θ_1 + 2*ϕ_1 + 2*ϕ_2) \n",
       "------------------ - --------------------------- - -------------------------- \n",
       "        48                        96                           96             \n",
       "\n",
       "  cos(-2*θ_2 + 2*ϕ_1 + 2*ϕ_2)   cos(2*θ_2 + 2*ϕ_1 + 2*ϕ_2)   cos(-2*θ_1 + 2*θ_\n",
       "- --------------------------- - -------------------------- - -----------------\n",
       "               96                           96                              24\n",
       "\n",
       "2 + ϕ_1 + ϕ_2)   cos(-2*θ_1 + 2*θ_2 + 2*ϕ_1 + 2*ϕ_2)   cos(2*θ_1 - 2*θ_2 + ϕ_1\n",
       "-------------- + ----------------------------------- - -----------------------\n",
       "                                 192                                 24       \n",
       "\n",
       " + ϕ_2)   cos(2*θ_1 - 2*θ_2 + 2*ϕ_1 + 2*ϕ_2)   cos(2*θ_1 + 2*θ_2 - 2*ϕ_1 - 2*ϕ\n",
       "------- + ---------------------------------- + -------------------------------\n",
       "                         192                                  192             \n",
       "\n",
       "_2)   cos(2*θ_1 + 2*θ_2 - ϕ_1 - ϕ_2)   cos(2*θ_1 + 2*θ_2 + ϕ_1 + ϕ_2)   cos(2*\n",
       "--- + ------------------------------ + ------------------------------ + ------\n",
       "                    24                               24                       \n",
       "\n",
       "θ_1 + 2*θ_2 + 2*ϕ_1 + 2*ϕ_2)   17\n",
       "---------------------------- + --\n",
       "         192                   48"
      ]
     },
     "execution_count": 42,
     "metadata": {},
     "output_type": "execute_result"
    }
   ],
   "source": [
    "A4μ((θ1=θ1,ϕ1=ϕ1,θ2=θ2,ϕ2=ϕ2); LS=LS_for_J0[2], J=0)"
   ]
  },
  {
   "cell_type": "code",
   "execution_count": 53,
   "metadata": {},
   "outputs": [
    {
     "data": {
      "text/latex": [
       "\\begin{equation*}\\frac{\\cos^{2}{\\left (θ_{1} \\right )} \\cos^{2}{\\left (θ_{2} \\right )}}{2} - \\frac{\\cos^{2}{\\left (θ_{1} \\right )}}{6} - \\frac{\\cos^{2}{\\left (θ_{2} \\right )}}{6} + \\frac{1}{2}\\end{equation*}"
      ],
      "text/plain": [
       "   2         2           2           2         \n",
       "cos (θ_1)*cos (θ_2)   cos (θ_1)   cos (θ_2)   1\n",
       "------------------- - --------- - --------- + -\n",
       "         2                6           6       2"
      ]
     },
     "execution_count": 53,
     "metadata": {},
     "output_type": "execute_result"
    }
   ],
   "source": [
    "A4μ_intϕ((θ1=θ1,θ2=θ2); LS=LS_for_J0[1], J=0)"
   ]
  },
  {
   "cell_type": "code",
   "execution_count": 55,
   "metadata": {},
   "outputs": [
    {
     "data": {
      "text/latex": [
       "\\begin{equation*}\\frac{3 \\sin^{2}{\\left (θ_{1} \\right )} \\sin^{2}{\\left (θ_{2} \\right )}}{4} - \\frac{\\sin^{2}{\\left (θ_{1} \\right )}}{6} - \\frac{\\sin^{2}{\\left (θ_{2} \\right )}}{6} + \\frac{1}{3}\\end{equation*}"
      ],
      "text/plain": [
       "     2         2           2           2         \n",
       "3*sin (θ_1)*sin (θ_2)   sin (θ_1)   sin (θ_2)   1\n",
       "--------------------- - --------- - --------- + -\n",
       "          4                 6           6       3"
      ]
     },
     "execution_count": 55,
     "metadata": {},
     "output_type": "execute_result"
    }
   ],
   "source": [
    "A4μ_intϕ((θ1=θ1,θ2=θ2); LS=LS_for_J0[2], J=0)"
   ]
  },
  {
   "cell_type": "code",
   "execution_count": null,
   "metadata": {},
   "outputs": [],
   "source": []
  },
  {
   "cell_type": "code",
   "execution_count": 56,
   "metadata": {},
   "outputs": [
    {
     "data": {
      "text/latex": [
       "\\begin{equation*}- \\frac{\\cos^{2}{\\left (θ_{1} \\right )} \\cos^{2}{\\left (θ_{2} \\right )}}{4} + \\frac{\\cos^{2}{\\left (θ_{1} \\right )}}{12} + \\frac{\\cos^{2}{\\left (θ_{2} \\right )}}{12} + \\frac{5}{12}\\end{equation*}"
      ],
      "text/plain": [
       "     2         2           2           2          \n",
       "  cos (θ_1)*cos (θ_2)   cos (θ_1)   cos (θ_2)   5 \n",
       "- ------------------- + --------- + --------- + --\n",
       "           4                12          12      12"
      ]
     },
     "execution_count": 56,
     "metadata": {},
     "output_type": "execute_result"
    }
   ],
   "source": [
    "A4μ_intϕ((θ1=θ1,ϕ1=ϕ1,θ2=θ2,ϕ2=ϕ2); LS=LS_for_J1[1], J=1)"
   ]
  },
  {
   "cell_type": "code",
   "execution_count": 57,
   "metadata": {},
   "outputs": [
    {
     "data": {
      "text/latex": [
       "\\begin{equation*}- \\frac{\\sin^{2}{\\left (θ_{1} \\right )}}{6} - \\frac{\\sin^{2}{\\left (θ_{2} \\right )}}{6} + \\frac{2}{3}\\end{equation*}"
      ],
      "text/plain": [
       "     2           2         \n",
       "  sin (θ_1)   sin (θ_2)   2\n",
       "- --------- - --------- + -\n",
       "      6           6       3"
      ]
     },
     "execution_count": 57,
     "metadata": {},
     "output_type": "execute_result"
    }
   ],
   "source": [
    "A4μ_intϕ((θ1=θ1,ϕ1=ϕ1,θ2=θ2,ϕ2=ϕ2); LS=LS_for_J1[2], J=1)"
   ]
  },
  {
   "cell_type": "code",
   "execution_count": 58,
   "metadata": {},
   "outputs": [
    {
     "data": {
      "text/latex": [
       "\\begin{equation*}- \\frac{\\cos^{2}{\\left (θ_{1} \\right )} \\cos^{2}{\\left (θ_{2} \\right )}}{2} + \\frac{1}{2}\\end{equation*}"
      ],
      "text/plain": [
       "     2         2         \n",
       "  cos (θ_1)*cos (θ_2)   1\n",
       "- ------------------- + -\n",
       "           2            2"
      ]
     },
     "execution_count": 58,
     "metadata": {},
     "output_type": "execute_result"
    }
   ],
   "source": [
    "A4μ_intϕ((θ1=θ1,ϕ1=ϕ1,θ2=θ2,ϕ2=ϕ2); LS=LS_for_J1[3], J=1)"
   ]
  },
  {
   "cell_type": "code",
   "execution_count": null,
   "metadata": {},
   "outputs": [],
   "source": []
  },
  {
   "cell_type": "code",
   "execution_count": 59,
   "metadata": {},
   "outputs": [
    {
     "data": {
      "text/latex": [
       "\\begin{equation*}\\frac{\\cos^{2}{\\left (θ_{1} \\right )} \\cos^{2}{\\left (θ_{2} \\right )}}{20} - \\frac{\\cos^{2}{\\left (θ_{1} \\right )}}{60} - \\frac{\\cos^{2}{\\left (θ_{2} \\right )}}{60} + \\frac{9}{20}\\end{equation*}"
      ],
      "text/plain": [
       "   2         2           2           2          \n",
       "cos (θ_1)*cos (θ_2)   cos (θ_1)   cos (θ_2)   9 \n",
       "------------------- - --------- - --------- + --\n",
       "         20               60          60      20"
      ]
     },
     "execution_count": 59,
     "metadata": {},
     "output_type": "execute_result"
    }
   ],
   "source": [
    "A4μ_intϕ((θ1=θ1,ϕ1=ϕ1,θ2=θ2,ϕ2=ϕ2); LS=LS_for_J2[1], J=2)"
   ]
  },
  {
   "cell_type": "code",
   "execution_count": 60,
   "metadata": {},
   "outputs": [
    {
     "data": {
      "text/latex": [
       "\\begin{equation*}\\frac{\\cos^{2}{\\left (θ_{1} \\right )} \\cos^{2}{\\left (θ_{2} \\right )}}{2} - \\frac{\\cos^{2}{\\left (θ_{1} \\right )}}{6} - \\frac{\\cos^{2}{\\left (θ_{2} \\right )}}{6} + \\frac{1}{2}\\end{equation*}"
      ],
      "text/plain": [
       "   2         2           2           2         \n",
       "cos (θ_1)*cos (θ_2)   cos (θ_1)   cos (θ_2)   1\n",
       "------------------- - --------- - --------- + -\n",
       "         2                6           6       2"
      ]
     },
     "execution_count": 60,
     "metadata": {},
     "output_type": "execute_result"
    }
   ],
   "source": [
    "A4μ_intϕ((θ1=θ1,ϕ1=ϕ1,θ2=θ2,ϕ2=ϕ2); LS=LS_for_J2[2], J=2)"
   ]
  },
  {
   "cell_type": "code",
   "execution_count": 61,
   "metadata": {},
   "outputs": [
    {
     "data": {
      "text/latex": [
       "\\begin{equation*}- \\frac{\\cos^{2}{\\left (θ_{1} \\right )} \\cos^{2}{\\left (θ_{2} \\right )}}{2} + \\frac{1}{2}\\end{equation*}"
      ],
      "text/plain": [
       "     2         2         \n",
       "  cos (θ_1)*cos (θ_2)   1\n",
       "- ------------------- + -\n",
       "           2            2"
      ]
     },
     "execution_count": 61,
     "metadata": {},
     "output_type": "execute_result"
    }
   ],
   "source": [
    "A4μ_intϕ((θ1=θ1,ϕ1=ϕ1,θ2=θ2,ϕ2=ϕ2); LS=LS_for_J2[3], J=2)"
   ]
  },
  {
   "cell_type": "code",
   "execution_count": 62,
   "metadata": {},
   "outputs": [
    {
     "data": {
      "text/latex": [
       "\\begin{equation*}\\frac{2 \\cos^{2}{\\left (θ_{1} \\right )} \\cos^{2}{\\left (θ_{2} \\right )}}{7} - \\frac{\\cos^{2}{\\left (θ_{1} \\right )}}{42} - \\frac{\\cos^{2}{\\left (θ_{2} \\right )}}{42} + \\frac{3}{7}\\end{equation*}"
      ],
      "text/plain": [
       "     2         2           2           2         \n",
       "2*cos (θ_1)*cos (θ_2)   cos (θ_1)   cos (θ_2)   3\n",
       "--------------------- - --------- - --------- + -\n",
       "          7                 42          42      7"
      ]
     },
     "execution_count": 62,
     "metadata": {},
     "output_type": "execute_result"
    }
   ],
   "source": [
    "A4μ_intϕ((θ1=θ1,ϕ1=ϕ1,θ2=θ2,ϕ2=ϕ2); LS=LS_for_J2[4], J=2)"
   ]
  },
  {
   "cell_type": "code",
   "execution_count": 63,
   "metadata": {},
   "outputs": [
    {
     "data": {
      "text/latex": [
       "\\begin{equation*}\\frac{23 \\sin^{2}{\\left (θ_{1} \\right )} \\sin^{2}{\\left (θ_{2} \\right )}}{140} + \\frac{9 \\sin^{2}{\\left (θ_{1} \\right )}}{70} + \\frac{9 \\sin^{2}{\\left (θ_{2} \\right )}}{70} + \\frac{1}{5}\\end{equation*}"
      ],
      "text/plain": [
       "      2         2             2             2         \n",
       "23*sin (θ_1)*sin (θ_2)   9*sin (θ_1)   9*sin (θ_2)   1\n",
       "---------------------- + ----------- + ----------- + -\n",
       "         140                  70            70       5"
      ]
     },
     "execution_count": 63,
     "metadata": {},
     "output_type": "execute_result"
    }
   ],
   "source": [
    "A4μ_intϕ((θ1=θ1,ϕ1=ϕ1,θ2=θ2,ϕ2=ϕ2); LS=LS_for_J2[5], J=2)"
   ]
  },
  {
   "cell_type": "code",
   "execution_count": null,
   "metadata": {},
   "outputs": [],
   "source": []
  }
 ],
 "metadata": {
  "@webio": {
   "lastCommId": null,
   "lastKernelId": null
  },
  "kernelspec": {
   "display_name": "Julia 1.3.0",
   "language": "julia",
   "name": "julia-1.3"
  },
  "language_info": {
   "file_extension": ".jl",
   "mimetype": "application/julia",
   "name": "julia",
   "version": "1.3.0"
  }
 },
 "nbformat": 4,
 "nbformat_minor": 2
}
