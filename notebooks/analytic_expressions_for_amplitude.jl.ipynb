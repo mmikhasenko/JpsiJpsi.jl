{
 "cells": [
  {
   "cell_type": "code",
   "execution_count": 1,
   "metadata": {},
   "outputs": [],
   "source": [
    "using SymPy\n",
    "using LinearAlgebra\n",
    "# \n",
    "using Parameters"
   ]
  },
  {
   "cell_type": "code",
   "execution_count": 2,
   "metadata": {},
   "outputs": [],
   "source": [
    "import PyCall\n",
    "PyCall.pyimport_conda(\"sympy.physics.quantum.spin\", \"sympy\")\n",
    "import_from(sympy.physics.quantum.spin, (:WignerD, :wignerd), typ=:Any)\n",
    "PyCall.pyimport_conda(\"sympy.physics.wigner\",       \"sympy\")\n",
    "import_from(sympy.physics.wigner)"
   ]
  },
  {
   "cell_type": "code",
   "execution_count": 3,
   "metadata": {},
   "outputs": [
    {
     "data": {
      "text/plain": [
       "clgn (generic function with 1 method)"
      ]
     },
     "execution_count": 3,
     "metadata": {},
     "output_type": "execute_result"
    }
   ],
   "source": [
    "Wignerd(J,λ1,λ2,θ) = \n",
    "    WignerD(J,λ1,λ2,0,θ,0).doit()\n",
    "clgn(two_j1,two_m1,two_j2,two_m2,two_j,two_m) = \n",
    "    clebsch_gordan(Sym(two_j1)/2, Sym(two_j2)/2, Sym(two_j)/2, Sym(two_m1)/2, Sym(two_m2)/2, Sym(two_m)/2)"
   ]
  },
  {
   "cell_type": "markdown",
   "metadata": {},
   "source": [
    "## Projected $\\cos\\theta$ distribution"
   ]
  },
  {
   "cell_type": "code",
   "execution_count": 4,
   "metadata": {},
   "outputs": [
    {
     "data": {
      "text/plain": [
       "(θ,)"
      ]
     },
     "execution_count": 4,
     "metadata": {},
     "output_type": "execute_result"
    }
   ],
   "source": [
    "θ, = @vars θ real=true"
   ]
  },
  {
   "cell_type": "code",
   "execution_count": 5,
   "metadata": {},
   "outputs": [
    {
     "data": {
      "text/latex": [
       "\\[ \\left[ \\begin{array}{r}\\frac{\\cos^{2}{\\left (θ \\right )}}{2} + \\frac{1}{2}\\\\\\sin^{2}{\\left (θ \\right )}\\\\\\frac{\\cos^{2}{\\left (θ \\right )}}{2} + \\frac{1}{2}\\end{array} \\right] \\]"
      ],
      "text/plain": [
       "3-element Array{Sym,1}:\n",
       " cos(θ)^2/2 + 1/2\n",
       "         sin(θ)^2\n",
       " cos(θ)^2/2 + 1/2"
      ]
     },
     "execution_count": 5,
     "metadata": {},
     "output_type": "execute_result"
    }
   ],
   "source": [
    "v = simplify.([sum(abs2, Wignerd(1,λ,ξ,θ) for ξ in [-1, 1]) for λ = [-1, 0, 1]])"
   ]
  },
  {
   "cell_type": "code",
   "execution_count": 6,
   "metadata": {},
   "outputs": [
    {
     "data": {
      "text/latex": [
       "\\begin{equation*}- a^{2} \\cos^{2}{\\left (θ \\right )} + 3 a^{2} + b^{2} \\cos^{2}{\\left (θ \\right )} + b^{2} + c^{2} \\cos^{2}{\\left (θ \\right )} + c^{2} - d^{2} \\cos^{2}{\\left (θ \\right )} + d^{2}\\end{equation*}"
      ],
      "text/plain": [
       "   2    2         2    2    2       2    2    2       2    2    2       2\n",
       "- a *cos (θ) + 3*a  + b *cos (θ) + b  + c *cos (θ) + c  - d *cos (θ) + d "
      ]
     },
     "execution_count": 6,
     "metadata": {},
     "output_type": "execute_result"
    }
   ],
   "source": [
    "let\n",
    "    H = [Sym(\"b\") Sym(\"a\") Sym(\"c\");\n",
    "         Sym(\"a\") Sym(\"d\") Sym(\"a\");\n",
    "         Sym(\"c\") Sym(\"a\") Sym(\"b\")]\n",
    "    simplify(sum(H[i,j]^2*v[i] for i in 1:3, j=1:3))\n",
    "end"
   ]
  },
  {
   "cell_type": "markdown",
   "metadata": {},
   "source": [
    "# Part 2: angular distributions"
   ]
  },
  {
   "cell_type": "code",
   "execution_count": 7,
   "metadata": {},
   "outputs": [
    {
     "data": {
      "text/plain": [
       "A4μ (generic function with 1 method)"
      ]
     },
     "execution_count": 7,
     "metadata": {},
     "output_type": "execute_result"
    }
   ],
   "source": [
    "function A4μ(vars; H)\n",
    "    @unpack θ1,ϕ,θ2 = vars\n",
    "    return simplify(9/Sym(4)*sum(\n",
    "        (λ1-λ2 == λ1′-λ2′ ? 1 : 0) *\n",
    "            Wignerd(1,λ1 ,ξ1,θ1) * Wignerd(1,λ2 ,ξ2,θ2) * (isodd(1-λ2) ? -1 : 1) *\n",
    "            Wignerd(1,λ1′,ξ1,θ1) * Wignerd(1,λ2′,ξ2,θ2) * (isodd(1-λ2′) ? -1 : 1) *\n",
    "            (cos((λ1-λ1′)*ϕ)+1im*sin((λ1-λ1′)*ϕ)) *\n",
    "                 H[λ1+2,λ2+2] *\n",
    "            conj(H[λ1′+2,λ2′+2])\n",
    "            for ξ1 in -1:2:1, ξ2 in -1:2:1,\n",
    "                λ1  in -1:1, λ2  in -1:1,\n",
    "                λ1′ in -1:1, λ2′ in -1:1))\n",
    "end"
   ]
  },
  {
   "cell_type": "code",
   "execution_count": 8,
   "metadata": {},
   "outputs": [
    {
     "data": {
      "text/plain": [
       "(θ1 = θ_1, ϕ = ϕ, θ2 = θ_2)"
      ]
     },
     "execution_count": 8,
     "metadata": {},
     "output_type": "execute_result"
    }
   ],
   "source": [
    "θ1, θ2, ϕ = @vars θ_1 θ_2 ϕ positive=true\n",
    "vars = (θ1=θ1,ϕ=ϕ,θ2=θ2)"
   ]
  },
  {
   "cell_type": "code",
   "execution_count": 9,
   "metadata": {},
   "outputs": [
    {
     "data": {
      "text/plain": [
       "(a, b, c, d, P, s)"
      ]
     },
     "execution_count": 9,
     "metadata": {},
     "output_type": "execute_result"
    }
   ],
   "source": [
    "a,b,c,d,P,s = @vars a b c d P s real=true"
   ]
  },
  {
   "cell_type": "code",
   "execution_count": 12,
   "metadata": {},
   "outputs": [],
   "source": [
    "Hg = [  b   a     c;\n",
    "      s*a   d P*s*a;\n",
    "      s*c P*a   P*b];"
   ]
  },
  {
   "cell_type": "code",
   "execution_count": 13,
   "metadata": {},
   "outputs": [
    {
     "data": {
      "text/latex": [
       "\\begin{equation*}- \\frac{9 P^{2} a^{2} s^{2} \\sin^{2}{\\left (θ_{1} \\right )} \\sin^{2}{\\left (θ_{2} \\right )}}{8} + \\frac{9 P^{2} a^{2} s^{2} \\sin^{2}{\\left (θ_{1} \\right )}}{4} - \\frac{9 P^{2} a^{2} \\sin^{2}{\\left (θ_{1} \\right )} \\sin^{2}{\\left (θ_{2} \\right )}}{8} + \\frac{9 P^{2} a^{2} \\sin^{2}{\\left (θ_{2} \\right )}}{4} + \\frac{9 P^{2} b^{2} \\sin^{2}{\\left (θ_{1} \\right )} \\sin^{2}{\\left (θ_{2} \\right )}}{16} - \\frac{9 P^{2} b^{2} \\sin^{2}{\\left (θ_{1} \\right )}}{8} - \\frac{9 P^{2} b^{2} \\sin^{2}{\\left (θ_{2} \\right )}}{8} + \\frac{9 P^{2} b^{2}}{4} + \\frac{9 P a^{2} s \\sin{\\left (θ_{1} \\right )} \\sin{\\left (θ_{2} \\right )} \\cos{\\left (θ_{1} \\right )} \\cos{\\left (θ_{2} \\right )} \\cos{\\left (ϕ \\right )}}{2} - \\frac{9 P b^{2} \\sin^{2}{\\left (θ_{1} \\right )} \\sin^{2}{\\left (θ_{2} \\right )} \\sin^{2}{\\left (ϕ \\right )}}{4} + \\frac{9 P b^{2} \\sin^{2}{\\left (θ_{1} \\right )} \\sin^{2}{\\left (θ_{2} \\right )}}{8} - \\frac{9 P b d \\sin{\\left (θ_{1} \\right )} \\sin{\\left (θ_{2} \\right )} \\cos{\\left (θ_{1} \\right )} \\cos{\\left (θ_{2} \\right )} \\cos{\\left (ϕ \\right )}}{4} - \\frac{9 a^{2} s^{2} \\sin^{2}{\\left (θ_{1} \\right )} \\sin^{2}{\\left (θ_{2} \\right )}}{8} + \\frac{9 a^{2} s^{2} \\sin^{2}{\\left (θ_{1} \\right )}}{4} - \\frac{9 a^{2} \\sin^{2}{\\left (θ_{1} \\right )} \\sin^{2}{\\left (θ_{2} \\right )}}{8} + \\frac{9 a^{2} \\sin^{2}{\\left (θ_{2} \\right )}}{4} + \\frac{9 b^{2} \\sin^{2}{\\left (θ_{1} \\right )} \\sin^{2}{\\left (θ_{2} \\right )}}{16} - \\frac{9 b^{2} \\sin^{2}{\\left (θ_{1} \\right )}}{8} - \\frac{9 b^{2} \\sin^{2}{\\left (θ_{2} \\right )}}{8} + \\frac{9 b^{2}}{4} - \\frac{9 b d \\sin{\\left (θ_{1} \\right )} \\sin{\\left (θ_{2} \\right )} \\cos{\\left (θ_{1} \\right )} \\cos{\\left (θ_{2} \\right )} \\cos{\\left (ϕ \\right )}}{4} + \\frac{9 c^{2} s^{2} \\sin^{2}{\\left (θ_{1} \\right )} \\sin^{2}{\\left (θ_{2} \\right )}}{16} - \\frac{9 c^{2} s^{2} \\sin^{2}{\\left (θ_{1} \\right )}}{8} - \\frac{9 c^{2} s^{2} \\sin^{2}{\\left (θ_{2} \\right )}}{8} + \\frac{9 c^{2} s^{2}}{4} + \\frac{9 c^{2} \\sin^{2}{\\left (θ_{1} \\right )} \\sin^{2}{\\left (θ_{2} \\right )}}{16} - \\frac{9 c^{2} \\sin^{2}{\\left (θ_{1} \\right )}}{8} - \\frac{9 c^{2} \\sin^{2}{\\left (θ_{2} \\right )}}{8} + \\frac{9 c^{2}}{4} + \\frac{9 d^{2} \\sin^{2}{\\left (θ_{1} \\right )} \\sin^{2}{\\left (θ_{2} \\right )}}{4}\\end{equation*}"
      ],
      "text/plain": [
       "     2  2  2    2         2           2  2  2    2           2  2    2        \n",
       "  9*P *a *s *sin (θ_1)*sin (θ_2)   9*P *a *s *sin (θ_1)   9*P *a *sin (θ_1)*si\n",
       "- ------------------------------ + -------------------- - --------------------\n",
       "                8                           4                          8      \n",
       "\n",
       " 2           2  2    2           2  2    2         2           2  2    2      \n",
       "n (θ_2)   9*P *a *sin (θ_2)   9*P *b *sin (θ_1)*sin (θ_2)   9*P *b *sin (θ_1) \n",
       "------- + ----------------- + --------------------------- - ----------------- \n",
       "                  4                        16                       8         \n",
       "\n",
       "     2  2    2           2  2        2                                        \n",
       "  9*P *b *sin (θ_2)   9*P *b    9*P*a *s*sin(θ_1)*sin(θ_2)*cos(θ_1)*cos(θ_2)*c\n",
       "- ----------------- + ------- + ----------------------------------------------\n",
       "          8              4                               2                    \n",
       "\n",
       "             2    2         2         2           2    2         2            \n",
       "os(ϕ)   9*P*b *sin (θ_1)*sin (θ_2)*sin (ϕ)   9*P*b *sin (θ_1)*sin (θ_2)   9*P*\n",
       "----- - ---------------------------------- + -------------------------- - ----\n",
       "                        4                                8                    \n",
       "\n",
       "                                                    2  2    2         2       \n",
       "b*d*sin(θ_1)*sin(θ_2)*cos(θ_1)*cos(θ_2)*cos(ϕ)   9*a *s *sin (θ_1)*sin (θ_2)  \n",
       "---------------------------------------------- - --------------------------- +\n",
       "                    4                                         8               \n",
       "\n",
       "    2  2    2           2    2         2           2    2           2    2    \n",
       " 9*a *s *sin (θ_1)   9*a *sin (θ_1)*sin (θ_2)   9*a *sin (θ_2)   9*b *sin (θ_1\n",
       " ----------------- - ------------------------ + -------------- + -------------\n",
       "         4                      8                     4                     16\n",
       "\n",
       "     2           2    2           2    2           2                          \n",
       ")*sin (θ_2)   9*b *sin (θ_1)   9*b *sin (θ_2)   9*b    9*b*d*sin(θ_1)*sin(θ_2)\n",
       "----------- - -------------- - -------------- + ---- - -----------------------\n",
       "                    8                8           4                            \n",
       "\n",
       "                               2  2    2         2           2  2    2        \n",
       "*cos(θ_1)*cos(θ_2)*cos(ϕ)   9*c *s *sin (θ_1)*sin (θ_2)   9*c *s *sin (θ_1)   \n",
       "------------------------- + --------------------------- - ----------------- - \n",
       "4                                        16                       8           \n",
       "\n",
       "   2  2    2           2  2      2    2         2           2    2           2\n",
       "9*c *s *sin (θ_2)   9*c *s    9*c *sin (θ_1)*sin (θ_2)   9*c *sin (θ_1)   9*c \n",
       "----------------- + ------- + ------------------------ - -------------- - ----\n",
       "        8              4                 16                    8              \n",
       "\n",
       "    2           2      2    2         2     \n",
       "*sin (θ_2)   9*c    9*d *sin (θ_1)*sin (θ_2)\n",
       "---------- + ---- + ------------------------\n",
       "  8           4                4            "
      ]
     },
     "execution_count": 13,
     "metadata": {},
     "output_type": "execute_result"
    }
   ],
   "source": [
    "A4μ_full = A4μ(vars; H=Hg)"
   ]
  },
  {
   "cell_type": "code",
   "execution_count": 16,
   "metadata": {},
   "outputs": [
    {
     "data": {
      "text/latex": [
       "\\[ \\left[ \\begin{array}{r}\\sin^{2}{\\left (θ_{1} \\right )} \\sin^{2}{\\left (θ_{2} \\right )} \\sin^{2}{\\left (ϕ \\right )}\\\\\\sin{\\left (θ_{1} \\right )} \\sin{\\left (θ_{2} \\right )} \\cos{\\left (θ_{1} \\right )} \\cos{\\left (θ_{2} \\right )} \\cos{\\left (ϕ \\right )}\\\\\\sin^{2}{\\left (θ_{1} \\right )} \\sin^{2}{\\left (θ_{2} \\right )}\\\\\\sin^{2}{\\left (θ_{1} \\right )}\\\\\\sin^{2}{\\left (θ_{2} \\right )}\\end{array} \\right] \\]"
      ],
      "text/plain": [
       "5-element Array{Sym,1}:\n",
       "             sin(θ_1)^2*sin(θ_2)^2*sin(ϕ)^2\n",
       " sin(θ_1)*sin(θ_2)*cos(θ_1)*cos(θ_2)*cos(ϕ)\n",
       "                      sin(θ_1)^2*sin(θ_2)^2\n",
       "                                 sin(θ_1)^2\n",
       "                                 sin(θ_2)^2"
      ]
     },
     "execution_count": 16,
     "metadata": {},
     "output_type": "execute_result"
    }
   ],
   "source": [
    "angular_basis = [\n",
    "    sin(θ1)^2*sin(θ2)^2*sin(ϕ)^2,\n",
    "    sin(θ1)sin(θ2)cos(θ1)cos(θ2)*cos(ϕ),\n",
    "    sin(θ1)^2*sin(θ2)^2,\n",
    "    sin(θ1)^2,\n",
    "    sin(θ2)^2  \n",
    "]\n",
    "# \n",
    "norms = [2/Sym(3)*2/Sym(3)*1/Sym(2), 0, 2/Sym(3)*2/Sym(3), 2/Sym(3), 2/Sym(3), 1]\n",
    "print_norms = map(x->x==0 ? 1 : x, norms)\n",
    "angular_basis"
   ]
  },
  {
   "cell_type": "code",
   "execution_count": 17,
   "metadata": {},
   "outputs": [
    {
     "data": {
      "text/plain": [
       "expand_on_basis (generic function with 1 method)"
      ]
     },
     "execution_count": 17,
     "metadata": {},
     "output_type": "execute_result"
    }
   ],
   "source": [
    "function expand_on_basis(ampl, basis)\n",
    "    lexp = expand(ampl.subs(cos(θ1)^2,1-sin(θ1)^2).subs(cos(θ2)^2,1-sin(θ2)^2).subs(cos(2ϕ),1-2*sin(ϕ)^2))\n",
    "    lexp = expand(lexp.subs(P^2, 1).subs(s^2, 1))\n",
    "    coeff = Vector{Sym}(undef,length(basis)+1)\n",
    "    for (i,b) in enumerate(basis)\n",
    "        c = collect(lexp, b).coeff(b, 1) \n",
    "        coeff[i] = c\n",
    "        lexp -= c*b\n",
    "        lexp = expand(lexp)\n",
    "    end\n",
    "    coeff[6] = simplify(lexp)\n",
    "    return simplify.(coeff)\n",
    "end\n",
    "#     println(simplify(coeff_K' * [angular_basis...,1] - A4K_full))"
   ]
  },
  {
   "cell_type": "code",
   "execution_count": 18,
   "metadata": {},
   "outputs": [
    {
     "data": {
      "text/latex": [
       "\\[ \\left[ \\begin{array}{r}- \\frac{9 P b^{2}}{4}\\\\\\frac{9 P a^{2} s}{2} - \\frac{9 P b d}{4} - \\frac{9 b d}{4}\\\\\\frac{9 P b^{2}}{8} - \\frac{9 a^{2}}{2} + \\frac{9 b^{2}}{8} + \\frac{9 c^{2}}{8} + \\frac{9 d^{2}}{4}\\\\\\frac{9 a^{2}}{2} - \\frac{9 b^{2}}{4} - \\frac{9 c^{2}}{4}\\\\\\frac{9 a^{2}}{2} - \\frac{9 b^{2}}{4} - \\frac{9 c^{2}}{4}\\\\\\frac{9 b^{2}}{2} + \\frac{9 c^{2}}{2}\\end{array} \\right] \\]"
      ],
      "text/plain": [
       "6-element Array{Sym,1}:\n",
       "                                        -9*P*b^2/4\n",
       "                 9*P*a^2*s/2 - 9*P*b*d/4 - 9*b*d/4\n",
       " 9*P*b^2/8 - 9*a^2/2 + 9*b^2/8 + 9*c^2/8 + 9*d^2/4\n",
       "                       9*a^2/2 - 9*b^2/4 - 9*c^2/4\n",
       "                       9*a^2/2 - 9*b^2/4 - 9*c^2/4\n",
       "                                 9*b^2/2 + 9*c^2/2"
      ]
     },
     "execution_count": 18,
     "metadata": {},
     "output_type": "execute_result"
    }
   ],
   "source": [
    "coeff_μ = expand_on_basis(A4μ_full, angular_basis)"
   ]
  },
  {
   "cell_type": "code",
   "execution_count": 130,
   "metadata": {},
   "outputs": [
    {
     "data": {
      "text/latex": [
       "\\begin{equation*}4 a^{2} + 2 b^{2} + 2 c^{2} + d^{2}\\end{equation*}"
      ],
      "text/plain": [
       "   2      2      2    2\n",
       "4*a  + 2*b  + 2*c  + d "
      ]
     },
     "execution_count": 130,
     "metadata": {},
     "output_type": "execute_result"
    }
   ],
   "source": [
    "simplify(sum(coeff_μ .* norms))"
   ]
  },
  {
   "cell_type": "code",
   "execution_count": 131,
   "metadata": {},
   "outputs": [
    {
     "data": {
      "text/latex": [
       "\\[ \\left[ \\begin{array}{r}- \\frac{P b^{2}}{2}\\\\\\frac{9 P a^{2} s}{2} - \\frac{9 P b d}{4} - \\frac{9 b d}{4}\\\\\\frac{P b^{2}}{2} - 2 a^{2} + \\frac{b^{2}}{2} + \\frac{c^{2}}{2} + d^{2}\\\\3 a^{2} - \\frac{3 b^{2}}{2} - \\frac{3 c^{2}}{2}\\\\3 a^{2} - \\frac{3 b^{2}}{2} - \\frac{3 c^{2}}{2}\\\\\\frac{9 b^{2}}{2} + \\frac{9 c^{2}}{2}\\end{array} \\right] \\]"
      ],
      "text/plain": [
       "6-element Array{Sym,1}:\n",
       "                              -P*b^2/2\n",
       "     9*P*a^2*s/2 - 9*P*b*d/4 - 9*b*d/4\n",
       " P*b^2/2 - 2*a^2 + b^2/2 + c^2/2 + d^2\n",
       "             3*a^2 - 3*b^2/2 - 3*c^2/2\n",
       "             3*a^2 - 3*b^2/2 - 3*c^2/2\n",
       "                     9*b^2/2 + 9*c^2/2"
      ]
     },
     "execution_count": 131,
     "metadata": {},
     "output_type": "execute_result"
    }
   ],
   "source": [
    "print_coeff_μ = coeff_μ .* print_norms"
   ]
  },
  {
   "cell_type": "markdown",
   "metadata": {},
   "source": [
    "# Forgotten particle-2 phase"
   ]
  },
  {
   "cell_type": "code",
   "execution_count": null,
   "metadata": {},
   "outputs": [],
   "source": [
    "Hg′= [  -b   a     -c;\n",
    "      -s*a   d -P*s*a;\n",
    "      -s*c P*a   -P*b];\n",
    "A4μ_full′ = A4μ(vars; H=Hg′);"
   ]
  },
  {
   "cell_type": "code",
   "execution_count": 20,
   "metadata": {},
   "outputs": [
    {
     "data": {
      "text/latex": [
       "\\begin{equation*}9 P a^{2} s \\sin{\\left (θ_{1} \\right )} \\sin{\\left (θ_{2} \\right )} \\cos{\\left (θ_{1} \\right )} \\cos{\\left (θ_{2} \\right )} \\cos{\\left (ϕ \\right )} - \\frac{9 P b d \\sin{\\left (θ_{1} \\right )} \\sin{\\left (θ_{2} \\right )} \\cos{\\left (θ_{1} \\right )} \\cos{\\left (θ_{2} \\right )} \\cos{\\left (ϕ \\right )}}{2} - \\frac{9 b d \\sin{\\left (θ_{1} \\right )} \\sin{\\left (θ_{2} \\right )} \\cos{\\left (θ_{1} \\right )} \\cos{\\left (θ_{2} \\right )} \\cos{\\left (ϕ \\right )}}{2}\\end{equation*}"
      ],
      "text/plain": [
       "     2                                                9*P*b*d*sin(θ_1)*sin(θ_2\n",
       "9*P*a *s*sin(θ_1)*sin(θ_2)*cos(θ_1)*cos(θ_2)*cos(ϕ) - ------------------------\n",
       "                                                                              \n",
       "\n",
       ")*cos(θ_1)*cos(θ_2)*cos(ϕ)   9*b*d*sin(θ_1)*sin(θ_2)*cos(θ_1)*cos(θ_2)*cos(ϕ)\n",
       "-------------------------- - ------------------------------------------------\n",
       "2                                                   2                        "
      ]
     },
     "execution_count": 20,
     "metadata": {},
     "output_type": "execute_result"
    }
   ],
   "source": [
    "A4μ_full - A4μ_full′"
   ]
  },
  {
   "cell_type": "code",
   "execution_count": 21,
   "metadata": {},
   "outputs": [
    {
     "data": {
      "text/latex": [
       "\\[ \\left[ \\begin{array}{r}0\\\\9 P a^{2} s - \\frac{9 P b d}{2} - \\frac{9 b d}{2}\\\\0\\\\0\\\\0\\\\0\\end{array} \\right] \\]"
      ],
      "text/plain": [
       "6-element Array{Sym,1}:\n",
       "                               0\n",
       " 9*P*a^2*s - 9*P*b*d/2 - 9*b*d/2\n",
       "                               0\n",
       "                               0\n",
       "                               0\n",
       "                               0"
      ]
     },
     "execution_count": 21,
     "metadata": {},
     "output_type": "execute_result"
    }
   ],
   "source": [
    "coeff_μ′ = expand_on_basis(A4μ_full′, angular_basis)\n",
    "coeff_μ-coeff_μ′"
   ]
  },
  {
   "cell_type": "markdown",
   "metadata": {},
   "source": [
    "# Ambiguity"
   ]
  },
  {
   "cell_type": "code",
   "execution_count": 41,
   "metadata": {},
   "outputs": [
    {
     "data": {
      "text/latex": [
       "\\begin{equation*}\\frac{s^{2} η^{2} \\sin^{2}{\\left (θ_{1} \\right )} \\cos^{2}{\\left (θ_{2} \\right )}}{2} + \\frac{s^{2} η^{2} \\sin^{2}{\\left (θ_{1} \\right )}}{2} + \\frac{s^{2} \\sin^{2}{\\left (θ_{1} \\right )} \\cos^{2}{\\left (θ_{2} \\right )}}{2} + \\frac{s^{2} \\sin^{2}{\\left (θ_{1} \\right )}}{2} + \\frac{s η \\left(\\cos{\\left (- 2 θ_{1} + 2 θ_{2} + ϕ \\right )} + \\cos{\\left (2 θ_{1} - 2 θ_{2} + ϕ \\right )} - \\cos{\\left (2 θ_{1} + 2 θ_{2} - ϕ \\right )} - \\cos{\\left (2 θ_{1} + 2 θ_{2} + ϕ \\right )}\\right)}{8} + \\frac{η^{2} \\sin^{2}{\\left (θ_{2} \\right )} \\cos^{2}{\\left (θ_{1} \\right )}}{2} + \\frac{η^{2} \\sin^{2}{\\left (θ_{2} \\right )}}{2} + \\frac{\\sin^{2}{\\left (θ_{2} \\right )} \\cos^{2}{\\left (θ_{1} \\right )}}{2} + \\frac{\\sin^{2}{\\left (θ_{2} \\right )}}{2}\\end{equation*}"
      ],
      "text/plain": [
       " 2  2    2         2         2  2    2         2    2         2         2    2\n",
       "s *η *sin (θ_1)*cos (θ_2)   s *η *sin (θ_1)   s *sin (θ_1)*cos (θ_2)   s *sin \n",
       "------------------------- + --------------- + ---------------------- + -------\n",
       "            2                      2                    2                   2 \n",
       "\n",
       "                                                                              \n",
       "(θ_1)   s*η*(cos(-2*θ_1 + 2*θ_2 + ϕ) + cos(2*θ_1 - 2*θ_2 + ϕ) - cos(2*θ_1 + 2*\n",
       "----- + ----------------------------------------------------------------------\n",
       "                                                           8                  \n",
       "\n",
       "                                      2    2         2         2    2         \n",
       "θ_2 - ϕ) - cos(2*θ_1 + 2*θ_2 + ϕ))   η *sin (θ_2)*cos (θ_1)   η *sin (θ_2)   s\n",
       "---------------------------------- + ---------------------- + ------------ + -\n",
       "                                               2                   2          \n",
       "\n",
       "  2         2           2     \n",
       "in (θ_2)*cos (θ_1)   sin (θ_2)\n",
       "------------------ + ---------\n",
       "        2                2    "
      ]
     },
     "execution_count": 41,
     "metadata": {},
     "output_type": "execute_result"
    }
   ],
   "source": [
    "mG = A4μ(vars;\n",
    "    H=[ 0 1 0\n",
    "        s 0 s*η\n",
    "        0 η 0])"
   ]
  },
  {
   "cell_type": "markdown",
   "metadata": {},
   "source": [
    "# 4K analysis"
   ]
  },
  {
   "cell_type": "code",
   "execution_count": 79,
   "metadata": {},
   "outputs": [
    {
     "data": {
      "text/plain": [
       "A4K (generic function with 2 methods)"
      ]
     },
     "execution_count": 79,
     "metadata": {},
     "output_type": "execute_result"
    }
   ],
   "source": [
    "function A4K(vars; H=error(\"give H\"))\n",
    "    @unpack θ1,ϕ,θ2 = vars\n",
    "    return expand(9*sum(\n",
    "        (λ1-λ2 == λ1′-λ2′ ? 1 : 0) *\n",
    "            Wignerd(1,λ1 ,0,θ1) * Wignerd(1,λ2 ,0,θ2) * (isodd(1-λ2) ? -1 : 1) *\n",
    "            Wignerd(1,λ1′,0,θ1) * Wignerd(1,λ2′,0,θ2) * (isodd(1-λ2′) ? -1 : 1) *\n",
    "            (cos((λ1-λ1′)*ϕ)+1im*sin((λ1-λ1′)*ϕ)) *\n",
    "                 H[λ1+2,λ2+2] *\n",
    "            conj(H[λ1′+2,λ2′+2])\n",
    "            for λ1  in -1:1, λ2  in -1:1,\n",
    "                λ1′ in -1:1, λ2′ in -1:1))\n",
    "end"
   ]
  },
  {
   "cell_type": "code",
   "execution_count": 80,
   "metadata": {},
   "outputs": [
    {
     "data": {
      "text/latex": [
       "\\begin{equation*}\\frac{9 P^{2} a^{2} s^{2} \\sin^{2}{\\left (θ_{2} \\right )} \\cos^{2}{\\left (θ_{1} \\right )}}{2} + \\frac{9 P^{2} a^{2} \\sin^{2}{\\left (θ_{1} \\right )} \\cos^{2}{\\left (θ_{2} \\right )}}{2} + \\frac{9 P^{2} b^{2} \\sin^{2}{\\left (θ_{1} \\right )} \\sin^{2}{\\left (θ_{2} \\right )}}{4} + \\frac{9 P^{2} c^{2} \\sin^{2}{\\left (θ_{1} \\right )} \\sin^{2}{\\left (θ_{2} \\right )}}{4} + 18 P a^{2} s \\sin{\\left (θ_{1} \\right )} \\sin{\\left (θ_{2} \\right )} \\cos{\\left (θ_{1} \\right )} \\cos{\\left (θ_{2} \\right )} \\cos{\\left (ϕ \\right )} + \\frac{9 P b^{2} \\sin^{2}{\\left (θ_{1} \\right )} \\sin^{2}{\\left (θ_{2} \\right )} \\cos{\\left (2 ϕ \\right )}}{2} - 9 P b d \\sin{\\left (θ_{1} \\right )} \\sin{\\left (θ_{2} \\right )} \\cos{\\left (θ_{1} \\right )} \\cos{\\left (θ_{2} \\right )} \\cos{\\left (ϕ \\right )} + \\frac{9 a^{2} s^{2} \\sin^{2}{\\left (θ_{2} \\right )} \\cos^{2}{\\left (θ_{1} \\right )}}{2} + \\frac{9 a^{2} \\sin^{2}{\\left (θ_{1} \\right )} \\cos^{2}{\\left (θ_{2} \\right )}}{2} + \\frac{9 b^{2} \\sin^{2}{\\left (θ_{1} \\right )} \\sin^{2}{\\left (θ_{2} \\right )}}{4} - 9 b d \\sin{\\left (θ_{1} \\right )} \\sin{\\left (θ_{2} \\right )} \\cos{\\left (θ_{1} \\right )} \\cos{\\left (θ_{2} \\right )} \\cos{\\left (ϕ \\right )} + \\frac{9 c^{2} \\sin^{2}{\\left (θ_{1} \\right )} \\sin^{2}{\\left (θ_{2} \\right )}}{4} + 9 d^{2} \\cos^{2}{\\left (θ_{1} \\right )} \\cos^{2}{\\left (θ_{2} \\right )}\\end{equation*}"
      ],
      "text/plain": [
       "   2  2  2    2         2           2  2    2         2           2  2    2   \n",
       "9*P *a *s *sin (θ_2)*cos (θ_1)   9*P *a *sin (θ_1)*cos (θ_2)   9*P *b *sin (θ_\n",
       "------------------------------ + --------------------------- + ---------------\n",
       "              2                               2                             4 \n",
       "\n",
       "      2           2  2    2         2                                         \n",
       "1)*sin (θ_2)   9*P *c *sin (θ_1)*sin (θ_2)         2                          \n",
       "------------ + --------------------------- + 18*P*a *s*sin(θ_1)*sin(θ_2)*cos(θ\n",
       "                            4                                                 \n",
       "\n",
       "                           2    2         2                                   \n",
       "                      9*P*b *sin (θ_1)*sin (θ_2)*cos(2*ϕ)                     \n",
       "_1)*cos(θ_2)*cos(ϕ) + ----------------------------------- - 9*P*b*d*sin(θ_1)*s\n",
       "                                       2                                      \n",
       "\n",
       "                                      2  2    2         2           2    2    \n",
       "                                   9*a *s *sin (θ_2)*cos (θ_1)   9*a *sin (θ_1\n",
       "in(θ_2)*cos(θ_1)*cos(θ_2)*cos(ϕ) + --------------------------- + -------------\n",
       "                                                2                           2 \n",
       "\n",
       "     2           2    2         2                                             \n",
       ")*cos (θ_2)   9*b *sin (θ_1)*sin (θ_2)                                        \n",
       "----------- + ------------------------ - 9*b*d*sin(θ_1)*sin(θ_2)*cos(θ_1)*cos(\n",
       "                         4                                                    \n",
       "\n",
       "                 2    2         2                                \n",
       "              9*c *sin (θ_1)*sin (θ_2)      2    2         2     \n",
       "θ_2)*cos(ϕ) + ------------------------ + 9*d *cos (θ_1)*cos (θ_2)\n",
       "                         4                                       "
      ]
     },
     "execution_count": 80,
     "metadata": {},
     "output_type": "execute_result"
    }
   ],
   "source": [
    "A4K_full = A4K(vars; H=Hg)"
   ]
  },
  {
   "cell_type": "code",
   "execution_count": 133,
   "metadata": {},
   "outputs": [
    {
     "data": {
      "text/latex": [
       "\\[ \\left[ \\begin{array}{r}- 9 P b^{2}\\\\18 P a^{2} s - 9 P b d - 9 b d\\\\\\frac{9 P b^{2}}{2} - 18 a^{2} + \\frac{9 b^{2}}{2} + \\frac{9 c^{2}}{2} + 9 d^{2}\\\\9 a^{2} - 9 d^{2}\\\\9 a^{2} - 9 d^{2}\\\\9 d^{2}\\end{array} \\right] \\]"
      ],
      "text/plain": [
       "6-element Array{Sym,1}:\n",
       "                                       -9*P*b^2\n",
       "                   18*P*a^2*s - 9*P*b*d - 9*b*d\n",
       " 9*P*b^2/2 - 18*a^2 + 9*b^2/2 + 9*c^2/2 + 9*d^2\n",
       "                                  9*a^2 - 9*d^2\n",
       "                                  9*a^2 - 9*d^2\n",
       "                                          9*d^2"
      ]
     },
     "execution_count": 133,
     "metadata": {},
     "output_type": "execute_result"
    }
   ],
   "source": [
    "coeff_K = expand_on_basis(A4K_full, angular_basis)"
   ]
  },
  {
   "cell_type": "code",
   "execution_count": 134,
   "metadata": {},
   "outputs": [
    {
     "data": {
      "text/latex": [
       "\\begin{equation*}4 a^{2} + 2 b^{2} + 2 c^{2} + d^{2}\\end{equation*}"
      ],
      "text/plain": [
       "   2      2      2    2\n",
       "4*a  + 2*b  + 2*c  + d "
      ]
     },
     "execution_count": 134,
     "metadata": {},
     "output_type": "execute_result"
    }
   ],
   "source": [
    "simplify(sum(coeff_K .* norms))"
   ]
  },
  {
   "cell_type": "code",
   "execution_count": 135,
   "metadata": {},
   "outputs": [
    {
     "data": {
      "text/latex": [
       "\\[ \\left[ \\begin{array}{r}- 2 P b^{2}\\\\18 P a^{2} s - 9 P b d - 9 b d\\\\2 P b^{2} - 8 a^{2} + 2 b^{2} + 2 c^{2} + 4 d^{2}\\\\6 a^{2} - 6 d^{2}\\\\6 a^{2} - 6 d^{2}\\\\9 d^{2}\\end{array} \\right] \\]"
      ],
      "text/plain": [
       "6-element Array{Sym,1}:\n",
       "                                -2*P*b^2\n",
       "            18*P*a^2*s - 9*P*b*d - 9*b*d\n",
       " 2*P*b^2 - 8*a^2 + 2*b^2 + 2*c^2 + 4*d^2\n",
       "                           6*a^2 - 6*d^2\n",
       "                           6*a^2 - 6*d^2\n",
       "                                   9*d^2"
      ]
     },
     "execution_count": 135,
     "metadata": {},
     "output_type": "execute_result"
    }
   ],
   "source": [
    "print_coeff_K = coeff_K .* print_norms"
   ]
  },
  {
   "cell_type": "markdown",
   "metadata": {},
   "source": [
    "## Print nice latex form"
   ]
  },
  {
   "cell_type": "code",
   "execution_count": 129,
   "metadata": {},
   "outputs": [
    {
     "name": "stdout",
     "output_type": "stream",
     "text": [
      "\\sin^{2}{\\left (\\phi \\right )} \\sin^{2}{\\left (\\theta_{1} \\right )} \\sin^{2}{\\left (\\theta_{2} \\right )}\r\n",
      "\\sin{\\left (\\theta_{1} \\right )} \\sin{\\left (\\theta_{2} \\right )} \\cos{\\left (\\phi \\right )} \\cos{\\left (\\theta_{1} \\right )} \\cos{\\left (\\theta_{2} \\right )}\r\n",
      "\\sin^{2}{\\left (\\theta_{1} \\right )} \\sin^{2}{\\left (\\theta_{2} \\right )}\r\n",
      "\\sin^{2}{\\left (\\theta_{1} \\right )}\r\n",
      "\\sin^{2}{\\left (\\theta_{2} \\right )}\r\n"
     ]
    },
    {
     "data": {
      "text/plain": [
       "5-element Array{Nothing,1}:\n",
       " nothing\n",
       " nothing\n",
       " nothing\n",
       " nothing\n",
       " nothing"
      ]
     },
     "execution_count": 129,
     "metadata": {},
     "output_type": "execute_result"
    }
   ],
   "source": [
    "sympy.print_latex.(map(x->x.subs(θ1,Sym(\"theta1\")).subs(θ2,Sym(\"theta2\")).subs(ϕ,Sym(\"phi\")), angular_basis))"
   ]
  },
  {
   "cell_type": "code",
   "execution_count": 132,
   "metadata": {},
   "outputs": [
    {
     "name": "stdout",
     "output_type": "stream",
     "text": [
      "- \\frac{P b^{2}}{2}\r\n",
      "\\frac{9 P a^{2} s}{2} - \\frac{9 P b d}{4} - \\frac{9 b d}{4}\r\n",
      "\\frac{P b^{2}}{2} - 2 a^{2} + \\frac{b^{2}}{2} + \\frac{c^{2}}{2} + d^{2}\r\n",
      "3 a^{2} - \\frac{3 b^{2}}{2} - \\frac{3 c^{2}}{2}\r\n",
      "3 a^{2} - \\frac{3 b^{2}}{2} - \\frac{3 c^{2}}{2}\r\n",
      "\\frac{9 b^{2}}{2} + \\frac{9 c^{2}}{2}\r\n"
     ]
    },
    {
     "data": {
      "text/plain": [
       "6-element Array{Nothing,1}:\n",
       " nothing\n",
       " nothing\n",
       " nothing\n",
       " nothing\n",
       " nothing\n",
       " nothing"
      ]
     },
     "execution_count": 132,
     "metadata": {},
     "output_type": "execute_result"
    }
   ],
   "source": [
    "sympy.print_latex.(print_coeff_μ)"
   ]
  },
  {
   "cell_type": "code",
   "execution_count": 136,
   "metadata": {},
   "outputs": [
    {
     "name": "stdout",
     "output_type": "stream",
     "text": [
      "- 2 P b^{2}\r\n",
      "18 P a^{2} s - 9 P b d - 9 b d\r\n",
      "2 P b^{2} - 8 a^{2} + 2 b^{2} + 2 c^{2} + 4 d^{2}\r\n",
      "6 a^{2} - 6 d^{2}\r\n",
      "6 a^{2} - 6 d^{2}\r\n",
      "9 d^{2}\r\n"
     ]
    },
    {
     "data": {
      "text/plain": [
       "6-element Array{Nothing,1}:\n",
       " nothing\n",
       " nothing\n",
       " nothing\n",
       " nothing\n",
       " nothing\n",
       " nothing"
      ]
     },
     "execution_count": 136,
     "metadata": {},
     "output_type": "execute_result"
    }
   ],
   "source": [
    "sympy.print_latex.(print_coeff_K)"
   ]
  },
  {
   "cell_type": "code",
   "execution_count": 137,
   "metadata": {},
   "outputs": [
    {
     "name": "stdout",
     "output_type": "stream",
     "text": [
      "\\left[\\begin{matrix}b & a & c\\\\a s & d & P a s\\\\P c & P a & P b\\end{matrix}\\right]\r\n"
     ]
    }
   ],
   "source": [
    "sympy.print_latex(Hg)"
   ]
  },
  {
   "cell_type": "code",
   "execution_count": null,
   "metadata": {},
   "outputs": [],
   "source": []
  }
 ],
 "metadata": {
  "@webio": {
   "lastCommId": null,
   "lastKernelId": null
  },
  "kernelspec": {
   "display_name": "Julia 1.3.0",
   "language": "julia",
   "name": "julia-1.3"
  },
  "language_info": {
   "file_extension": ".jl",
   "mimetype": "application/julia",
   "name": "julia",
   "version": "1.3.0"
  }
 },
 "nbformat": 4,
 "nbformat_minor": 2
}
