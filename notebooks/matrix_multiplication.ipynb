{
 "cells": [
  {
   "cell_type": "code",
   "execution_count": 1,
   "metadata": {},
   "outputs": [
    {
     "name": "stderr",
     "output_type": "stream",
     "text": [
      "┌ Info: Precompiling JpsiJpsi [e8ccafc5-7906-4028-8e81-bb42b907b6f0]\n",
      "└ @ Base loading.jl:1273\n"
     ]
    }
   ],
   "source": [
    "using JpsiJpsi\n",
    "using PartialWaveFunctions"
   ]
  },
  {
   "cell_type": "code",
   "execution_count": 2,
   "metadata": {},
   "outputs": [],
   "source": [
    "using SymPy"
   ]
  },
  {
   "cell_type": "code",
   "execution_count": 3,
   "metadata": {},
   "outputs": [
    {
     "data": {
      "text/plain": [
       "I (generic function with 1 method)"
      ]
     },
     "execution_count": 3,
     "metadata": {},
     "output_type": "execute_result"
    }
   ],
   "source": [
    "ϕ, = @vars ϕ real=true\n",
    "#\n",
    "I(H, F1, F2) = simplify(\n",
    "    sum(H[λ1,λ2]*F1[λ1,λ1′]*H[λ1′,λ2′]*F2[λ2,λ2′]*kronecker(λ1-λ2,λ1′-λ2′)*\n",
    "    (cos((λ1-λ1′)*ϕ)+1im*sin((λ1-λ1′)*ϕ))*\n",
    "    (isodd(1-λ2) ? -1 : 1)* (isodd(1-λ2′) ? -1 : 1)\n",
    "        for λ1 in 1:3, λ2 in 1:3, λ1′ in 1:3, λ2′ in 1:3))"
   ]
  },
  {
   "cell_type": "code",
   "execution_count": 4,
   "metadata": {},
   "outputs": [
    {
     "data": {
      "text/latex": [
       "\\[\\left[ \\begin{array}{rrr}h_{11}&h_{12}&h_{13}\\\\- h_{12}&h_{22}&h_{23}\\\\- h_{13}&- h_{23}&h_{33}\\end{array}\\right]\\]"
      ],
      "text/plain": [
       "3×3 Array{Sym,2}:\n",
       "  h_11   h_12  h_13\n",
       " -h_12   h_22  h_23\n",
       " -h_13  -h_23  h_33"
      ]
     },
     "execution_count": 4,
     "metadata": {},
     "output_type": "execute_result"
    }
   ],
   "source": [
    "Hs = [i<=j ? Sym(\"h_$i$j\") : Sym(\"h_$j$i\") for i in 1:3, j=1:3]\n",
    "Ha = [i<=j ? Sym(\"h_$i$j\") : -Sym(\"h_$j$i\") for i in 1:3, j=1:3]"
   ]
  },
  {
   "cell_type": "code",
   "execution_count": 5,
   "metadata": {},
   "outputs": [
    {
     "data": {
      "text/latex": [
       "\\[\\left[ \\begin{array}{rrr}1&- \\frac{\\sqrt{2}}{4}&\\frac{1}{2}\\\\- \\frac{\\sqrt{2}}{4}&1&\\frac{\\sqrt{2}}{4}\\\\\\frac{1}{2}&\\frac{\\sqrt{2}}{4}&1\\end{array}\\right]\\]"
      ],
      "text/plain": [
       "3×3 Array{Sym,2}:\n",
       "          1  -sqrt(2)/4        1/2\n",
       " -sqrt(2)/4           1  sqrt(2)/4\n",
       "        1/2   sqrt(2)/4          1"
      ]
     },
     "execution_count": 5,
     "metadata": {},
     "output_type": "execute_result"
    }
   ],
   "source": [
    "F = [2 0 1; 0 2 0; 1 0 2];\n",
    "G = [0 -1 0; -1 0 1; 0 1 0];\n",
    "L = [1 0 -1; 0 1 0; -1 0 1];\n",
    "\n",
    "P = [1 -1/(2*sqrt(Sym(2))) 1/Sym(2); -1/(2*sqrt(Sym(2))) 1 1/(2*sqrt(Sym(2))); 1/Sym(2) 1/(2*sqrt(Sym(2))) 1]"
   ]
  },
  {
   "cell_type": "code",
   "execution_count": 14,
   "metadata": {
    "scrolled": true
   },
   "outputs": [
    {
     "data": {
      "text/latex": [
       "\\[ \\left[ \\begin{array}{r}2 \\left(- h_{11} h_{22} + 2 h_{12} h_{23} - h_{22} h_{33}\\right) \\cos{\\left (ϕ \\right )}\\\\0\\\\4 h_{11}^{2} + 2 h_{11} h_{33} \\cos{\\left (2 ϕ \\right )} + 8 h_{12}^{2} + 8 h_{13}^{2} + 4 h_{22}^{2} + 8 h_{23}^{2} + 4 h_{33}^{2}\\end{array} \\right] \\]"
      ],
      "text/plain": [
       "3-element Array{Sym,1}:\n",
       "                                        2*(-h_11*h_22 + 2*h_12*h_23 - h_22*h_33)*cos(ϕ)\n",
       "                                                                                      0\n",
       " 4*h_11^2 + 2*h_11*h_33*cos(2*ϕ) + 8*h_12^2 + 8*h_13^2 + 4*h_22^2 + 8*h_23^2 + 4*h_33^2"
      ]
     },
     "execution_count": 14,
     "metadata": {},
     "output_type": "execute_result"
    }
   ],
   "source": [
    "[I(Hs, G, G)\n",
    " I(Hs, G, F)\n",
    " I(Hs, F, F)]"
   ]
  },
  {
   "cell_type": "code",
   "execution_count": 16,
   "metadata": {
    "scrolled": true
   },
   "outputs": [
    {
     "data": {
      "text/latex": [
       "\\begin{equation*}h_{11}^{2} + 2 h_{11} h_{33} \\cos{\\left (2 ϕ \\right )} + 2 h_{12}^{2} + 2 h_{13}^{2} + h_{22}^{2} + 2 h_{23}^{2} + h_{33}^{2}\\end{equation*}"
      ],
      "text/plain": [
       "    2                                2         2       2         2       2\n",
       "h_11  + 2*h_11*h_33*cos(2*ϕ) + 2*h_12  + 2*h_13  + h_22  + 2*h_23  + h_33 "
      ]
     },
     "execution_count": 16,
     "metadata": {},
     "output_type": "execute_result"
    }
   ],
   "source": [
    "I(Hs, L, L)"
   ]
  },
  {
   "cell_type": "code",
   "execution_count": 20,
   "metadata": {
    "scrolled": true
   },
   "outputs": [
    {
     "data": {
      "text/latex": [
       "\\begin{equation*}h_{11}^{2} - \\frac{h_{11} h_{22} \\cos{\\left (ϕ \\right )}}{4} + \\frac{h_{11} h_{33} \\cos{\\left (2 ϕ \\right )}}{2} + 2 h_{12}^{2} + \\frac{h_{12} h_{23} \\cos{\\left (ϕ \\right )}}{2} + 2 h_{13}^{2} + h_{22}^{2} - \\frac{h_{22} h_{33} \\cos{\\left (ϕ \\right )}}{4} + 2 h_{23}^{2} + h_{33}^{2}\\end{equation*}"
      ],
      "text/plain": [
       "    2   h_11*h_22*cos(ϕ)   h_11*h_33*cos(2*ϕ)         2   h_12*h_23*cos(ϕ)    \n",
       "h_11  - ---------------- + ------------------ + 2*h_12  + ---------------- + 2\n",
       "               4                   2                             2            \n",
       "\n",
       "     2       2   h_22*h_33*cos(ϕ)         2       2\n",
       "*h_13  + h_22  - ---------------- + 2*h_23  + h_33 \n",
       "                        4                          "
      ]
     },
     "execution_count": 20,
     "metadata": {},
     "output_type": "execute_result"
    }
   ],
   "source": [
    "I(Hs, P, P)"
   ]
  },
  {
   "cell_type": "code",
   "execution_count": 21,
   "metadata": {
    "scrolled": true
   },
   "outputs": [
    {
     "data": {
      "text/latex": [
       "\\begin{equation*}h_{11}^{2} - \\frac{h_{11} h_{22} \\cos{\\left (ϕ \\right )}}{4} + \\frac{h_{11} h_{33} \\cos{\\left (2 ϕ \\right )}}{2} + 2 h_{12}^{2} + \\frac{h_{12} h_{23} \\cos{\\left (ϕ \\right )}}{2} + 2 h_{13}^{2} + h_{22}^{2} - \\frac{h_{22} h_{33} \\cos{\\left (ϕ \\right )}}{4} + 2 h_{23}^{2} + h_{33}^{2}\\end{equation*}"
      ],
      "text/plain": [
       "    2   h_11*h_22*cos(ϕ)   h_11*h_33*cos(2*ϕ)         2   h_12*h_23*cos(ϕ)    \n",
       "h_11  - ---------------- + ------------------ + 2*h_12  + ---------------- + 2\n",
       "               4                   2                             2            \n",
       "\n",
       "     2       2   h_22*h_33*cos(ϕ)         2       2\n",
       "*h_13  + h_22  - ---------------- + 2*h_23  + h_33 \n",
       "                        4                          "
      ]
     },
     "execution_count": 21,
     "metadata": {},
     "output_type": "execute_result"
    }
   ],
   "source": [
    "I(Ha, P, P)"
   ]
  },
  {
   "cell_type": "code",
   "execution_count": 68,
   "metadata": {},
   "outputs": [
    {
     "data": {
      "text/latex": [
       "\\begin{equation*}4 h_{11}^{2} + 2 h_{11} h_{33} \\cos{\\left (2 ϕ \\right )} + 8 h_{12}^{2} + 8 h_{13}^{2} + 4 h_{22}^{2} + 8 h_{23}^{2} + 4 h_{33}^{2}\\end{equation*}"
      ],
      "text/plain": [
       "      2                                2         2         2         2        \n",
       "4*h_11  + 2*h_11*h_33*cos(2*ϕ) + 8*h_12  + 8*h_13  + 4*h_22  + 8*h_23  + 4*h_3\n",
       "\n",
       " 2\n",
       "3 "
      ]
     },
     "execution_count": 68,
     "metadata": {},
     "output_type": "execute_result"
    }
   ],
   "source": [
    "I(Ha, F, F)"
   ]
  },
  {
   "cell_type": "markdown",
   "metadata": {},
   "source": [
    "# Cos dependence"
   ]
  },
  {
   "cell_type": "code",
   "execution_count": 13,
   "metadata": {},
   "outputs": [
    {
     "data": {
      "text/plain": [
       "(θ,)"
      ]
     },
     "execution_count": 13,
     "metadata": {},
     "output_type": "execute_result"
    }
   ],
   "source": [
    "θ, = @vars θ positive=true"
   ]
  },
  {
   "cell_type": "code",
   "execution_count": 14,
   "metadata": {},
   "outputs": [
    {
     "data": {
      "text/latex": [
       "\\[ \\left[ \\begin{array}{r}- \\frac{\\sqrt{2} \\sin{\\left (θ \\right )}}{2}\\\\\\cos{\\left (θ \\right )}\\\\\\frac{\\sqrt{2} \\sin{\\left (θ \\right )}}{2}\\end{array} \\right] \\]"
      ],
      "text/plain": [
       "3-element Array{Sym,1}:\n",
       " -sqrt(2)*sin(θ)/2\n",
       "            cos(θ)\n",
       "  sqrt(2)*sin(θ)/2"
      ]
     },
     "execution_count": 14,
     "metadata": {},
     "output_type": "execute_result"
    }
   ],
   "source": [
    "Dv = [-sin(θ)/sqrt(Sym(2)), cos(θ), sin(θ)/sqrt(Sym(2))]"
   ]
  },
  {
   "cell_type": "code",
   "execution_count": 18,
   "metadata": {},
   "outputs": [
    {
     "data": {
      "text/latex": [
       "\\begin{equation*}\\frac{h_{11}^{2} \\sin^{2}{\\left (θ \\right )}}{2} + \\frac{h_{12}^{2} \\sin^{2}{\\left (θ \\right )}}{2} + h_{12}^{2} \\cos^{2}{\\left (θ \\right )} + h_{13}^{2} \\sin^{2}{\\left (θ \\right )} + h_{22}^{2} \\cos^{2}{\\left (θ \\right )} + \\frac{h_{23}^{2} \\sin^{2}{\\left (θ \\right )}}{2} + h_{23}^{2} \\cos^{2}{\\left (θ \\right )} + \\frac{h_{33}^{2} \\sin^{2}{\\left (θ \\right )}}{2}\\end{equation*}"
      ],
      "text/plain": [
       "    2    2          2    2                                                    \n",
       "h_11 *sin (θ)   h_12 *sin (θ)       2    2          2    2          2    2    \n",
       "------------- + ------------- + h_12 *cos (θ) + h_13 *sin (θ) + h_22 *cos (θ) \n",
       "      2               2                                                       \n",
       "\n",
       "      2    2                          2    2   \n",
       "  h_23 *sin (θ)       2    2      h_33 *sin (θ)\n",
       "+ ------------- + h_23 *cos (θ) + -------------\n",
       "        2                               2      "
      ]
     },
     "execution_count": 18,
     "metadata": {},
     "output_type": "execute_result"
    }
   ],
   "source": [
    "sum(Hs[i,j]^2*Dv[j]^2 for i in 1:3, j=1:3)"
   ]
  },
  {
   "cell_type": "code",
   "execution_count": null,
   "metadata": {},
   "outputs": [],
   "source": []
  }
 ],
 "metadata": {
  "kernelspec": {
   "display_name": "Julia 1.3.0",
   "language": "julia",
   "name": "julia-1.3"
  },
  "language_info": {
   "file_extension": ".jl",
   "mimetype": "application/julia",
   "name": "julia",
   "version": "1.3.0"
  }
 },
 "nbformat": 4,
 "nbformat_minor": 2
}
