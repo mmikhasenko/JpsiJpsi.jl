{
 "cells": [
  {
   "cell_type": "code",
   "execution_count": 1,
   "metadata": {},
   "outputs": [],
   "source": [
    "using SymPy\n",
    "using LinearAlgebra\n",
    "# \n",
    "using Parameters"
   ]
  },
  {
   "cell_type": "code",
   "execution_count": 2,
   "metadata": {},
   "outputs": [],
   "source": [
    "import PyCall\n",
    "PyCall.pyimport_conda(\"sympy.physics.quantum.spin\", \"sympy\")\n",
    "import_from(sympy.physics.quantum.spin, (:WignerD, :wignerd), typ=:Any)\n",
    "PyCall.pyimport_conda(\"sympy.physics.wigner\",       \"sympy\")\n",
    "import_from(sympy.physics.wigner)"
   ]
  },
  {
   "cell_type": "code",
   "execution_count": 222,
   "metadata": {},
   "outputs": [],
   "source": [
    "M = [1,-1,-1,-1];\n",
    "gperp(ν,μ,l) = (ν==μ ? M[ν] : 0) - l[ν]*l[μ]/sum(l.*M.*l)\n",
    "# \n",
    "function ϵ(α,μ,ν,β)\n",
    "    length(Set([α,μ,ν,β]))!=4 && return 0\n",
    "    inds = [α,μ,ν,β]\n",
    "    prod(sign(inds[i]-inds[j]) for i in 1:4 for j in i+1:4)\n",
    "end;\n",
    "# ϵ(2,1,3,4),ϵ(1,2,3,4),ϵ(2,3,4,1),ϵ(3,4,1,1)"
   ]
  },
  {
   "cell_type": "code",
   "execution_count": 256,
   "metadata": {},
   "outputs": [
    {
     "data": {
      "text/plain": [
       "1×4 Adjoint{Any,Array{Sym,1}}:\n",
       " 0  0  0  4*E*γβ"
      ]
     },
     "execution_count": 256,
     "metadata": {},
     "output_type": "execute_result"
    }
   ],
   "source": [
    "γ,E,γβ,k,p,θ1,θ2,ϕ = @vars γ E γβ k p θ_1 θ_2 ϕ positive=true\n",
    "# \n",
    "k1 = [γ*E+γβ*k*cos(θ1), k*sin(θ1),0, γ*k*cos(θ1) + γβ*E]\n",
    "k2 = [γ*E-γβ*k*cos(θ1),-k*sin(θ1),0,-γ*k*cos(θ1) + γβ*E]\n",
    "# \n",
    "p1 = [γ*E+γβ*p*cos(θ2),  p*sin(θ2)*cos(ϕ),-p*sin(θ2)*sin(ϕ),  -(γ*p*cos(θ2) + γβ*E)]\n",
    "p2 = [γ*E-γβ*p*cos(θ2), -p*sin(θ2)*cos(ϕ), p*sin(θ2)*sin(ϕ), -(-γ*p*cos(θ2) + γβ*E)]\n",
    "#\n",
    "q = (k1+k2)-(p1+p2)\n",
    "# \n",
    "vv = simplify(expand(simplify(sum(k1 .* M .* k2).subs(k,E)).subs(γβ^2,γ^2-1)))\n",
    "vv != simplify(expand(simplify(sum(p1 .* M .* p2).subs(p,E)).subs(γβ^2,γ^2-1))) && error(\"!!\")\n",
    "# vv\n",
    "q'"
   ]
  },
  {
   "cell_type": "markdown",
   "metadata": {},
   "source": [
    "# Covariant amplitude\n",
    "$$\n",
    "\\Large\n",
    "\\begin{align}\n",
    "A^\\alpha = \\epsilon^{\\alpha,\\mu,\\rho,\\tau}\n",
    "    \\quad\\tilde{q}_{\\tau}\n",
    "    \\quad \\bar{v}(k_2)\\gamma^\\nu u(k_1)\\,\\,g_{\\nu\\mu}^{\\perp}(k)\n",
    "    \\quad \\bar{v}(p_2)\\gamma^\\sigma u(p_1)\\,\\,g_{\\sigma\\rho}^{\\perp}(p)\n",
    "\\end{align}\n",
    "$$\n",
    "with $k = k_1+k_2$, $p = p_1+p_2$, and $\\tilde{q} = k - p$"
   ]
  },
  {
   "cell_type": "code",
   "execution_count": 248,
   "metadata": {},
   "outputs": [],
   "source": [
    "L(μ,ρ,v1,v2) = v1[μ]*v2[ρ]+v2[μ]*v1[ρ]-(μ==ρ ? M[μ] : 0) * vv # * sum(v1 .* M .* v2)\n",
    "# \n",
    "L1rel = [expand(sum(L(ν,τ,k1,k2) * M[ν] * M[τ] *\n",
    "                gperp(ν,μ,k1+k2) * gperp(τ,ρ,k1+k2)\n",
    "                    for ν=1:4, τ=1:4)).subs(γβ^2,γ^2-1) for μ=1:4, ρ=1:4];\n",
    "L2rel = [expand(sum(L(ν,τ,p1,p2) * M[ν] * M[τ] *\n",
    "                gperp(ν,μ,p1+p2) * gperp(τ,ρ,p1+p2)\n",
    "                    for ν=1:4, τ=1:4)).subs(γβ^2,γ^2-1) for μ=1:4, ρ=1:4];"
   ]
  },
  {
   "cell_type": "code",
   "execution_count": 249,
   "metadata": {},
   "outputs": [
    {
     "data": {
      "text/latex": [
       "\\begin{equation*}3\\end{equation*}"
      ],
      "text/plain": [
       "3"
      ]
     },
     "execution_count": 249,
     "metadata": {},
     "output_type": "execute_result"
    }
   ],
   "source": [
    "simplify(sum(gperp(i,i,p1+p2)*M[i] for i in 1:4).subs(γβ^2,γ^2-1))"
   ]
  },
  {
   "cell_type": "code",
   "execution_count": 253,
   "metadata": {},
   "outputs": [
    {
     "data": {
      "text/latex": [
       "\\begin{equation*}- 4 E^{2}\\end{equation*}"
      ],
      "text/plain": [
       "    2\n",
       "-4*E "
      ]
     },
     "execution_count": 253,
     "metadata": {},
     "output_type": "execute_result"
    }
   ],
   "source": [
    "a = sum(L1rel[i,i]*M[i] for i in 1:4)\n",
    "simplify(expand(simplify(a.subs(k,E)).subs(γβ^2,γ^2-1)))\n",
    "# \n",
    "a = sum(L2rel[i,i]*M[i] for i in 1:4)\n",
    "simplify(expand(simplify(a.subs(p,E)).subs(γβ^2,γ^2-1)))\n",
    "# "
   ]
  },
  {
   "cell_type": "code",
   "execution_count": 254,
   "metadata": {},
   "outputs": [
    {
     "data": {
      "text/latex": [
       "\\begin{equation*}- 16 E^{4} γ^{2} + 16 E^{4} - 4 E^{2} k^{2} γ^{2} \\sin^{2}{\\left (θ_{1} \\right )} + 8 E^{2} k^{2} γ^{2} + 4 E^{2} k^{2} \\sin^{2}{\\left (θ_{1} \\right )} - 8 E^{2} k^{2} - 4 E^{2} p^{2} γ^{2} \\sin^{2}{\\left (θ_{2} \\right )} + 8 E^{2} p^{2} γ^{2} + 4 E^{2} p^{2} \\sin^{2}{\\left (θ_{2} \\right )} - 8 E^{2} p^{2} + 8 k^{2} p^{2} γ^{2} \\sin^{2}{\\left (θ_{1} \\right )} \\sin^{2}{\\left (θ_{2} \\right )} - 4 k^{2} p^{2} γ^{2} \\sin^{2}{\\left (θ_{1} \\right )} - 4 k^{2} p^{2} γ^{2} \\sin^{2}{\\left (θ_{2} \\right )} + 8 k^{2} p^{2} γβ^{2} \\sin{\\left (θ_{1} \\right )} \\sin{\\left (θ_{2} \\right )} \\cos{\\left (θ_{1} \\right )} \\cos{\\left (θ_{2} \\right )} \\cos{\\left (ϕ \\right )} - 8 k^{2} p^{2} \\sin^{2}{\\left (θ_{1} \\right )} \\sin^{2}{\\left (θ_{2} \\right )} + 4 k^{2} p^{2} \\sin^{2}{\\left (θ_{1} \\right )} + 4 k^{2} p^{2} \\sin^{2}{\\left (θ_{2} \\right )}\\end{equation*}"
      ],
      "text/plain": [
       "      4  2       4      2  2  2    2           2  2  2      2  2    2         \n",
       "- 16*E *γ  + 16*E  - 4*E *k *γ *sin (θ_1) + 8*E *k *γ  + 4*E *k *sin (θ_1) - 8\n",
       "\n",
       "  2  2      2  2  2    2           2  2  2      2  2    2           2  2      \n",
       "*E *k  - 4*E *p *γ *sin (θ_2) + 8*E *p *γ  + 4*E *p *sin (θ_2) - 8*E *p  + 8*k\n",
       "\n",
       "2  2  2    2         2           2  2  2    2           2  2  2    2          \n",
       " *p *γ *sin (θ_1)*sin (θ_2) - 4*k *p *γ *sin (θ_1) - 4*k *p *γ *sin (θ_2) + 8*\n",
       "\n",
       " 2  2   2                                                 2  2    2         2 \n",
       "k *p *γβ *sin(θ_1)*sin(θ_2)*cos(θ_1)*cos(θ_2)*cos(ϕ) - 8*k *p *sin (θ_1)*sin (\n",
       "\n",
       "          2  2    2           2  2    2     \n",
       "θ_2) + 4*k *p *sin (θ_1) + 4*k *p *sin (θ_2)"
      ]
     },
     "execution_count": 254,
     "metadata": {},
     "output_type": "execute_result"
    }
   ],
   "source": [
    "cal = simplify(\n",
    "    sum(gperp(α,α′,p1+p2+k1+k2)*gperp(α,α′′,p1+p2+k1+k2)*\n",
    "        ϵ(α′,μ,ν,4)*\n",
    "        ϵ(α′′,ρ,τ,4)*L1rel[μ,ρ]*L2rel[ν,τ]*\n",
    "    M[α]*M[μ]*M[ν]*M[ρ]*M[τ]\n",
    "    for α=1:4,α′=1:4,α′′=1:4,μ=1:4,ν=1:4,ρ=1:4,τ=1:4))"
   ]
  },
  {
   "cell_type": "code",
   "execution_count": 255,
   "metadata": {},
   "outputs": [
    {
     "data": {
      "text/latex": [
       "\\begin{equation*}8 \\left(γ - 1\\right) \\left(γ + 1\\right) \\left(\\sin^{2}{\\left (θ_{1} \\right )} \\sin^{2}{\\left (θ_{2} \\right )} - \\sin^{2}{\\left (θ_{1} \\right )} + \\sin{\\left (θ_{1} \\right )} \\sin{\\left (θ_{2} \\right )} \\cos{\\left (θ_{1} \\right )} \\cos{\\left (θ_{2} \\right )} \\cos{\\left (ϕ \\right )} - \\sin^{2}{\\left (θ_{2} \\right )}\\right)\\end{equation*}"
      ],
      "text/plain": [
       "                  /   2         2           2                                 \n",
       "8*(γ - 1)*(γ + 1)*\\sin (θ_1)*sin (θ_2) - sin (θ_1) + sin(θ_1)*sin(θ_2)*cos(θ_1\n",
       "\n",
       "                       2     \\\n",
       ")*cos(θ_2)*cos(ϕ) - sin (θ_2)/"
      ]
     },
     "execution_count": 255,
     "metadata": {},
     "output_type": "execute_result"
    }
   ],
   "source": [
    "factor(expand(expand(expand(cal.subs(γβ^2,γ^2-1).subs(k,E).subs(p,E))/E^4)))"
   ]
  },
  {
   "cell_type": "code",
   "execution_count": null,
   "metadata": {},
   "outputs": [],
   "source": []
  }
 ],
 "metadata": {
  "kernelspec": {
   "display_name": "Julia 1.3.0",
   "language": "julia",
   "name": "julia-1.3"
  },
  "language_info": {
   "file_extension": ".jl",
   "mimetype": "application/julia",
   "name": "julia",
   "version": "1.3.0"
  }
 },
 "nbformat": 4,
 "nbformat_minor": 2
}
